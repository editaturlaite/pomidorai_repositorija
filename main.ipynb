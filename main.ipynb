{
 "cells": [
  {
   "cell_type": "code",
   "execution_count": null,
   "id": "9e9ee6bc",
   "metadata": {},
   "outputs": [],
   "source": [
    "from duomenu_apdorojimas.db_ir_irasymas import (sukurti_sesija,Bazine_klase,irasyti_trenyravimo_paveikslelius,irasyti_validacijos_paveikslelius,\n",
    "    irasyti_testo_paveikslelius)\n",
    "import pandas as pd\n",
    "from duomenu_apdorojimas.paveiksleliu_nuskaitymas import issitraukti_paveikslelius, uzkoduoti_klases_lable"
   ]
  },
  {
   "cell_type": "code",
   "execution_count": null,
   "id": "14c05bc2",
   "metadata": {},
   "outputs": [],
   "source": [
    "train_kelias = r\"C:\\Users\\Vartotojas\\Desktop\\POMIDORAI\\pomidoru_duomenys\\trenyravimas\"\n",
    "val_kelias = r\"C:\\Users\\Vartotojas\\Desktop\\POMIDORAI\\pomidoru_duomenys\\validacija\"\n",
    "test_kelias = r\"C:\\Users\\Vartotojas\\Desktop\\POMIDORAI\\pomidoru_duomenys\\testas\""
   ]
  },
  {
   "cell_type": "code",
   "execution_count": null,
   "id": "5df437b0",
   "metadata": {},
   "outputs": [],
   "source": [
    "rysys_su_baze, Session, sesija = sukurti_sesija()\n",
    "\n",
    "Bazine_klase.metadata.create_all(rysys_su_baze)\n",
    "\n",
    "irasyti_trenyravimo_paveikslelius(sesija,train_kelias)\n",
    "irasyti_validacijos_paveikslelius(sesija,val_kelias)\n",
    "irasyti_testo_paveikslelius(sesija,test_kelias)"
   ]
  },
  {
   "cell_type": "code",
   "execution_count": null,
   "id": "a417e605",
   "metadata": {},
   "outputs": [],
   "source": [
    "train_df = pd.read_sql_table('Pomidoru_lapai_trenyravimo_duomenys', con=rysys_su_baze)\n",
    "val_df = pd.read_sql_table('Pomidoru_lapai_validacijos_duomenys', con=rysys_su_baze)\n",
    "test_df = pd.read_sql_table('Pomidoru_lapai_testo_duomenys', con=rysys_su_baze)"
   ]
  },
  {
   "cell_type": "code",
   "execution_count": null,
   "id": "0f9a6bfa",
   "metadata": {},
   "outputs": [],
   "source": [
    "\n",
    "x_train, y_train = issitraukti_paveikslelius(train_df)\n",
    "x_val, y_val = issitraukti_paveikslelius(val_df)\n",
    "x_test, y_test = issitraukti_paveikslelius(test_df)\n",
    "\n",
    "y_train, y_val, y_test = uzkoduoti_klases_lable(y_train, y_val, y_test)"
   ]
  }
 ],
 "metadata": {
  "language_info": {
   "name": "python"
  }
 },
 "nbformat": 4,
 "nbformat_minor": 5
}
