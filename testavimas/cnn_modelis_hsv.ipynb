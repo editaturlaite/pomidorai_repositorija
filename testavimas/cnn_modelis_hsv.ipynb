{
 "cells": [
  {
   "cell_type": "code",
   "execution_count": null,
   "id": "13fe0485",
   "metadata": {},
   "outputs": [],
   "source": [
    "import numpy as np\n",
    "import pandas as pd\n",
    "import matplotlib.pyplot as plt\n",
    "import tensorflow as tf\n",
    "from tensorflow import keras\n",
    "from tensorflow.keras import layers\n",
    "from tensorflow.keras.callbacks import EarlyStopping\n",
    "from sklearn.preprocessing import LabelEncoder\n",
    "from tensorflow.keras.utils import load_img, img_to_array, to_categorical\n",
    "from duomenu_apdorojimas.db_ir_irasymas import sukurti_sesija\n",
    "from duomenu_apdorojimas.paveiksleliu_nuskaitymas import issitraukti_paveikslelius, uzkoduoti_klases_lable\n",
    "from sklearn.metrics import classification_report, confusion_matrix, ConfusionMatrixDisplay\n",
    "import matplotlib.pyplot as plt\n"
   ]
  },
  {
   "cell_type": "code",
   "execution_count": null,
   "id": "3b1ab916",
   "metadata": {},
   "outputs": [],
   "source": [
    "rysys_su_baze, Session, sesija = sukurti_sesija()"
   ]
  },
  {
   "cell_type": "code",
   "execution_count": null,
   "id": "75a661de",
   "metadata": {},
   "outputs": [],
   "source": [
    "train_df = pd.read_sql_table('Pomidoru_lapai_trenyravimo_hsv', con=rysys_su_baze)\n",
    "val_df = pd.read_sql_table('Pomidoru_lapai_validacijos_hsv', con=rysys_su_baze)\n",
    "test_df = pd.read_sql_table('Pomidoru_lapai_testo_hsv', con=rysys_su_baze)"
   ]
  },
  {
   "cell_type": "code",
   "execution_count": null,
   "id": "182f80bf",
   "metadata": {},
   "outputs": [],
   "source": [
    "x_train, y_train = issitraukti_paveikslelius(train_df, dydis=(128, 128))\n",
    "x_val, y_val = issitraukti_paveikslelius(val_df, dydis=(128, 128))\n",
    "x_test, y_test = issitraukti_paveikslelius(test_df, dydis=(128, 128))"
   ]
  },
  {
   "cell_type": "code",
   "execution_count": null,
   "id": "d8c488cc",
   "metadata": {},
   "outputs": [],
   "source": [
    "y_train, y_val, y_test = uzkoduoti_klases_lable(y_train, y_val, y_test)\n",
    "y_train = to_categorical(y_train)\n",
    "y_val = to_categorical(y_val)\n",
    "y_test = to_categorical(y_test)"
   ]
  },
  {
   "cell_type": "code",
   "execution_count": null,
   "id": "2ed81c6d",
   "metadata": {},
   "outputs": [],
   "source": [
    "x_train = x_train.astype(\"float32\") / 255.0\n",
    "x_val = x_val.astype(\"float32\") / 255.0\n",
    "x_test = x_test.astype(\"float32\") / 255.0"
   ]
  },
  {
   "cell_type": "code",
   "execution_count": null,
   "id": "85c1f30e",
   "metadata": {},
   "outputs": [],
   "source": [
    "klasiu_skaicius = y_train.shape[1]\n",
    "ivesties_forma = (128, 128, 3)\n",
    "SEED = 42\n",
    "\n",
    "def sukurti_cnn_hsv(ivesties_forma, klasiu_skaicius, learning_rate=0.0001):\n",
    "    modelis = keras.Sequential([\n",
    "        layers.Conv2D(64, (3, 3), activation='relu', input_shape=ivesties_forma),\n",
    "        layers.BatchNormalization(),\n",
    "        layers.MaxPooling2D((2, 2)),\n",
    "        layers.Dropout(0.4),\n",
    "\n",
    "        layers.Conv2D(32, (3, 3), activation='relu'),\n",
    "        layers.BatchNormalization(),\n",
    "        layers.MaxPooling2D((2, 2)),\n",
    "        layers.Dropout(0.4),\n",
    "\n",
    "        layers.Flatten(),\n",
    "        layers.Dense(128, activation='relu'),\n",
    "        layers.BatchNormalization(),\n",
    "        layers.Dropout(0.4),\n",
    "        layers.Dense(klasiu_skaicius, activation='softmax')])\n",
    "\n",
    "    optimizieris = keras.optimizers.Adam(learning_rate=learning_rate)\n",
    "    modelis.compile(optimizer=optimizieris, loss='categorical_crossentropy', metrics=['accuracy'])\n",
    "    return modelis\n"
   ]
  },
  {
   "cell_type": "code",
   "execution_count": null,
   "id": "85d1b126",
   "metadata": {},
   "outputs": [],
   "source": [
    "modelis = sukurti_cnn_hsv(ivesties_forma, klasiu_skaicius)\n",
    "sustabdymas = EarlyStopping(monitor='val_loss', patience=10, restore_best_weights=True)\n",
    "\n",
    "history = modelis.fit(x_train, y_train, validation_data=(x_val, y_val), epochs=40, callbacks=[sustabdymas])\n"
   ]
  },
  {
   "cell_type": "code",
   "execution_count": null,
   "id": "b5dd053a",
   "metadata": {},
   "outputs": [],
   "source": [
    "nuostolis, tikslumas = modelis.evaluate(x_test, y_test, verbose=1)\n",
    "print(f\"Testo nuostolis: {nuostolis:.4f}\")\n",
    "print(f\"Testo tikslumas: {tikslumas:.4f}\")"
   ]
  },
  {
   "cell_type": "code",
   "execution_count": null,
   "id": "a074e751",
   "metadata": {},
   "outputs": [],
   "source": [
    "modelis.save(\"issaugoti_modeliai/hsv_cnn_modelis.h5\")"
   ]
  },
  {
   "cell_type": "code",
   "execution_count": null,
   "id": "7daae82a",
   "metadata": {},
   "outputs": [],
   "source": [
    "y_spejimai = modelis.predict(x_test)\n",
    "y_spejamos_klases = np.argmax(y_spejimai, axis=1)\n",
    "y_tikros_klases = np.argmax(y_test, axis=1)"
   ]
  },
  {
   "cell_type": "code",
   "execution_count": null,
   "id": "8477f0e9",
   "metadata": {},
   "outputs": [],
   "source": [
    "conf_matrix = confusion_matrix(y_tikros_klases, y_spejamos_klases)\n",
    "disp = ConfusionMatrixDisplay(confusion_matrix=conf_matrix)\n",
    "disp.plot(xticks_rotation=45)\n",
    "plt.title(\"Matrica HSV CNN\")\n",
    "plt.tight_layout()\n",
    "plt.show()"
   ]
  },
  {
   "cell_type": "code",
   "execution_count": null,
   "id": "133a5bd6",
   "metadata": {},
   "outputs": [],
   "source": [
    "print(\"Klasifikacijos ataskaita:\")\n",
    "print(classification_report(y_tikros_klases, y_spejamos_klases))"
   ]
  },
  {
   "cell_type": "code",
   "execution_count": null,
   "id": "660b5145",
   "metadata": {},
   "outputs": [],
   "source": []
  }
 ],
 "metadata": {
  "language_info": {
   "name": "python"
  }
 },
 "nbformat": 4,
 "nbformat_minor": 5
}
