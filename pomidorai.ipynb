{
 "cells": [
  {
   "cell_type": "code",
   "execution_count": 7,
   "id": "214a4054",
   "metadata": {},
   "outputs": [],
   "source": [
    "import matplotlib.pyplot as plt\n",
    "import tensorflow as tf\n",
    "from tensorflow import keras\n",
    "from tensorflow.keras import layers\n",
    "from tensorflow.keras.utils import load_img, img_to_array\n",
    "import pandas as pd\n",
    "import numpy as np\n",
    "from sqlalchemy import create_engine\n",
    "from sklearn.preprocessing import LabelEncoder\n",
    "from sqlalchemy import create_engine, Column, Integer, String, LargeBinary\n",
    "from sqlalchemy.orm import sessionmaker, declarative_base\n",
    "import os\n",
    "from sqlalchemy.orm import declarative_base"
   ]
  },
  {
   "cell_type": "code",
   "execution_count": 8,
   "id": "35310b3b",
   "metadata": {},
   "outputs": [],
   "source": [
    "train_kelias = r\"C:\\Users\\Vartotojas\\Desktop\\POMIDORAI\\pomidoru_duomenys\\trenyravimas\"\n",
    "val_kelias = r\"C:\\Users\\Vartotojas\\Desktop\\POMIDORAI\\pomidoru_duomenys\\validacija\"\n",
    "test_kelias = r\"C:\\Users\\Vartotojas\\Desktop\\POMIDORAI\\pomidoru_duomenys\\testas\""
   ]
  },
  {
   "cell_type": "code",
   "execution_count": 9,
   "id": "72461d83",
   "metadata": {},
   "outputs": [],
   "source": [
    "\n",
    "Bazine_klase = declarative_base()\n",
    "rysys_su_baze = create_engine('sqlite:///pomidoru_lapai.db')\n",
    "\n",
    "Session = sessionmaker(bind=rysys_su_baze)\n",
    "sesija = Session()"
   ]
  },
  {
   "cell_type": "code",
   "execution_count": 10,
   "id": "6df059d3",
   "metadata": {},
   "outputs": [],
   "source": [
    "class PomidoraiTrenyravimas(Bazine_klase):\n",
    "\n",
    "    __tablename__ = 'Pomidoru_lapai_trenyravimo_duomenys'\n",
    "\n",
    "    id = Column(Integer,primary_key = True)\n",
    "    kelias = Column(String, unique=True, nullable=False)  \n",
    "    klases_pavadinimas = Column(String, nullable=False)\n"
   ]
  },
  {
   "cell_type": "code",
   "execution_count": 11,
   "id": "a880e51d",
   "metadata": {},
   "outputs": [],
   "source": [
    "def irasyti_trenyravimo_paveikslelius(sesija, trenyravimo_kelias):\n",
    "\n",
    "    for klases_pavadinimas in os.listdir(trenyravimo_kelias):\n",
    "        klases_kelias = os.path.join(trenyravimo_kelias,klases_pavadinimas)\n",
    "\n",
    "        if os.path.isdir(klases_kelias):\n",
    "            for paveikslelio_pavadinimas in os.listdir(klases_kelias):\n",
    "                paveikslelio_kelias = os.path.join(klases_kelias,paveikslelio_pavadinimas)\n",
    "\n",
    "                egzistuoja = sesija.query(PomidoraiTrenyravimas).filter_by(kelias=paveikslelio_kelias).first()\n",
    "\n",
    "                if not egzistuoja:\n",
    "\n",
    "                    naujas_irasas = PomidoraiTrenyravimas(kelias = paveikslelio_kelias, klases_pavadinimas = klases_pavadinimas)\n",
    "\n",
    "                    sesija.add(naujas_irasas)\n",
    "\n",
    "    sesija.commit()\n",
    "\n",
    "    print(\"Irasyti trenyravimo paveiksleiai\")"
   ]
  },
  {
   "cell_type": "code",
   "execution_count": 12,
   "id": "acb0bf46",
   "metadata": {},
   "outputs": [],
   "source": [
    "class PomidoraiValidacija(Bazine_klase):\n",
    "\n",
    "    __tablename__ = 'Pomidoru_lapai_validacijos_duomenys'\n",
    "\n",
    "    id = Column(Integer,primary_key = True)\n",
    "    kelias = Column(String, unique=True, nullable=False)  \n",
    "    klases_pavadinimas = Column(String, nullable=False)\n",
    "\n",
    "def irasyti_validacijos_paveikslelius(sesija, validacijos_kelias):\n",
    "\n",
    "    for klases_pavadinimas in os.listdir(validacijos_kelias):\n",
    "        klases_kelias = os.path.join(validacijos_kelias,klases_pavadinimas)\n",
    "\n",
    "        if os.path.isdir(klases_kelias):\n",
    "            for paveikslelio_pavadinimas in os.listdir(klases_kelias):\n",
    "                paveikslelio_kelias = os.path.join(klases_kelias,paveikslelio_pavadinimas)\n",
    "\n",
    "                egzistuoja = sesija.query(PomidoraiValidacija).filter_by(kelias=paveikslelio_kelias).first()\n",
    "\n",
    "                if not egzistuoja:\n",
    "\n",
    "                    naujas_irasas = PomidoraiValidacija(kelias = paveikslelio_kelias, klases_pavadinimas = klases_pavadinimas)\n",
    "\n",
    "                    sesija.add(naujas_irasas)\n",
    "\n",
    "    sesija.commit()\n",
    "\n",
    "    print(\"Irasyti validacijos paveiksleiai\")"
   ]
  },
  {
   "cell_type": "code",
   "execution_count": 13,
   "id": "c23bb941",
   "metadata": {},
   "outputs": [],
   "source": [
    "class PomidoraiTestas(Bazine_klase):\n",
    "\n",
    "    __tablename__ = 'Pomidoru_lapai_testo_duomenys'\n",
    "\n",
    "    id = Column(Integer,primary_key = True)\n",
    "    kelias = Column(String, unique=True, nullable=False)  \n",
    "    klases_pavadinimas = Column(String, nullable=False)\n",
    "\n",
    "def irasyti_testo_paveikslelius(sesija, testo_kelias):\n",
    "\n",
    "    for klases_pavadinimas in os.listdir(test_kelias):\n",
    "        klases_kelias = os.path.join(test_kelias,klases_pavadinimas)\n",
    "\n",
    "        if os.path.isdir(klases_kelias):\n",
    "            for paveikslelio_pavadinimas in os.listdir(klases_kelias):\n",
    "                paveikslelio_kelias = os.path.join(klases_kelias,paveikslelio_pavadinimas)\n",
    "\n",
    "                egzistuoja = sesija.query(PomidoraiTestas).filter_by(kelias=paveikslelio_kelias).first()\n",
    "\n",
    "                if not egzistuoja:\n",
    "\n",
    "                    naujas_irasas = PomidoraiTestas(kelias = paveikslelio_kelias, klases_pavadinimas = klases_pavadinimas)\n",
    "\n",
    "                    sesija.add(naujas_irasas)\n",
    "\n",
    "    sesija.commit()\n",
    "\n",
    "    print(\"Irasyti testo paveiksleiai\")"
   ]
  },
  {
   "cell_type": "code",
   "execution_count": 14,
   "id": "31614eec",
   "metadata": {},
   "outputs": [
    {
     "name": "stdout",
     "output_type": "stream",
     "text": [
      "Irasyti trenyravimo paveiksleiai\n",
      "Irasyti validacijos paveiksleiai\n",
      "Irasyti testo paveiksleiai\n"
     ]
    }
   ],
   "source": [
    "Bazine_klase.metadata.create_all(rysys_su_baze)\n",
    "\n",
    "irasyti_trenyravimo_paveikslelius(sesija,train_kelias)\n",
    "irasyti_validacijos_paveikslelius(sesija,val_kelias)\n",
    "irasyti_testo_paveikslelius(sesija,test_kelias)"
   ]
  },
  {
   "cell_type": "code",
   "execution_count": 15,
   "id": "9fc21a58",
   "metadata": {},
   "outputs": [],
   "source": [
    "\n",
    "train_df = pd.read_sql_table('Pomidoru_lapai_trenyravimo_duomenys', con=rysys_su_baze)\n",
    "\n",
    "val_df = pd.read_sql_table('Pomidoru_lapai_validacijos_duomenys', con=rysys_su_baze)\n",
    "\n",
    "test_df = pd.read_sql_table('Pomidoru_lapai_testo_duomenys', con=rysys_su_baze)\n",
    "\n",
    "\n",
    "# print(train_df.head())\n",
    "# print(val_df.head())\n",
    "# print(test_df.head())"
   ]
  },
  {
   "cell_type": "code",
   "execution_count": null,
   "id": "18b720b9",
   "metadata": {},
   "outputs": [],
   "source": [
    "def issitraukti_paveikslelius(df, dydis=(128, 128)):\n",
    "    paveiksleliai = []\n",
    "    klasifikacijos = []\n",
    "\n",
    "    for indeksas, eilute in df.iterrows():\n",
    "        paveikslelis = load_img(eilute['kelias'], target_size=dydis)\n",
    "        paveikslelis_array = img_to_array(paveikslelis)\n",
    "        paveiksleliai.append(paveikslelis_array)\n",
    "        klasifikacijos.append(eilute['klases_pavadinimas'])\n",
    "\n",
    "    return np.array(paveiksleliai), np.array(klasifikacijos)\n",
    "\n",
    "x_train, y_train = issitraukti_paveikslelius(train_df)\n",
    "x_val, y_val = issitraukti_paveikslelius(val_df)\n",
    "x_test, y_test = issitraukti_paveikslelius(test_df)"
   ]
  },
  {
   "cell_type": "code",
   "execution_count": 17,
   "id": "8ba892c7",
   "metadata": {},
   "outputs": [
    {
     "name": "stdout",
     "output_type": "stream",
     "text": [
      "Klases uzkoduotos\n"
     ]
    }
   ],
   "source": [
    "def uzkoduoti_klases_lable(y_train, y_val, y_test):\n",
    "\n",
    "    enkoderis = LabelEncoder()\n",
    "    y_train_skaiciais = enkoderis.fit_transform(y_train)\n",
    "    y_val_skaiciais = enkoderis.transform(y_val)\n",
    "    y_test_skaiciais = enkoderis.transform(y_test)\n",
    "\n",
    "    print(\"Klases uzkoduotos\")\n",
    "\n",
    "    return y_train_skaiciais,y_val_skaiciais,y_test_skaiciais\n",
    "\n",
    "y_train, y_val, y_test = uzkoduoti_klases_lable(y_train,y_val,y_test)"
   ]
  },
  {
   "cell_type": "markdown",
   "id": "4ae8c657",
   "metadata": {},
   "source": [
    "Duomenu ikelimas mobile net modeliui "
   ]
  },
  {
   "cell_type": "code",
   "execution_count": 101,
   "id": "e4eed33b",
   "metadata": {},
   "outputs": [
    {
     "name": "stdout",
     "output_type": "stream",
     "text": [
      "Found 4500 files belonging to 6 classes.\n",
      "Found 900 files belonging to 6 classes.\n",
      "Found 600 files belonging to 6 classes.\n"
     ]
    }
   ],
   "source": [
    "import tensorflow as tf\n",
    "\n",
    "paveikslelio_dydis = (128, 128)\n",
    "imties_dydis = 32\n",
    "SEED = 42\n",
    "\n",
    "train_ds = tf.keras.utils.image_dataset_from_directory(\n",
    "    r\"C:\\Users\\Vartotojas\\Desktop\\POMIDORAI\\pomidoru_duomenys\\trenyravimas\",\n",
    "    image_size=paveikslelio_dydis,\n",
    "    batch_size=imties_dydis,\n",
    "    label_mode=\"categorical\", \n",
    "    shuffle=True,\n",
    "    seed=SEED)\n",
    "\n",
    "val_ds = tf.keras.utils.image_dataset_from_directory(\n",
    "    r\"C:\\Users\\Vartotojas\\Desktop\\POMIDORAI\\pomidoru_duomenys\\validacija\",\n",
    "    image_size=paveikslelio_dydis,\n",
    "    batch_size=imties_dydis,\n",
    "    label_mode=\"categorical\",\n",
    "    shuffle=False,\n",
    "    seed=SEED)\n",
    "\n",
    "test_ds = tf.keras.utils.image_dataset_from_directory(\n",
    "    r\"C:\\Users\\Vartotojas\\Desktop\\POMIDORAI\\pomidoru_duomenys\\testas\",\n",
    "    image_size=paveikslelio_dydis,\n",
    "    batch_size=imties_dydis,\n",
    "    label_mode=\"categorical\",\n",
    "    shuffle=False,\n",
    "    seed=SEED)"
   ]
  },
  {
   "cell_type": "code",
   "execution_count": null,
   "id": "5e4e59cb",
   "metadata": {},
   "outputs": [],
   "source": [
    "from tensorflow.keras.applications import MobileNetV2\n",
    "from tensorflow.keras import layers, models\n",
    "from tensorflow.keras.callbacks import EarlyStopping\n",
    "\n",
    "\n",
    "ivesties_forma = (128, 128, 3)\n",
    "klasiu_skaicius = len(train_ds.class_names)\n",
    "\n",
    "mobilenet_pagrindas = MobileNetV2(\n",
    "    input_shape=ivesties_forma,\n",
    "    include_top=False,\n",
    "    weights='imagenet')\n",
    "\n",
    "mobilenet_pagrindas.trainable = False \n",
    "\n",
    "\n",
    "modelis = models.Sequential([\n",
    "    layers.Rescaling(1./255, input_shape=(128, 128, 3)),\n",
    "    mobilenet_pagrindas,\n",
    "    layers.GlobalAveragePooling2D(),\n",
    "    layers.Dense(128, activation='relu'),\n",
    "    layers.Dropout(0.3),\n",
    "    layers.Dense(klasiu_skaicius, activation='softmax')])\n",
    "\n",
    "\n",
    "modelis.compile(\n",
    "    optimizer=tf.keras.optimizers.Adam(learning_rate=0.0001),\n",
    "    loss='categorical_crossentropy',\n",
    "    metrics=['accuracy'])\n",
    "\n",
    "sustabdymas = EarlyStopping(monitor='val_loss',patience=8,restore_best_weights=True)\n",
    "\n",
    "history = modelis.fit(train_ds,validation_data=val_ds,epochs=30,callbacks=[sustabdymas])\n",
    "\n",
    "\n",
    "nuostolis, tikslumas = modelis.evaluate(test_ds, verbose=1)\n",
    "\n",
    "print(f\"Testo nuostolis: {nuostolis:4f}\")\n",
    "print(f\"Testo tikslumas: {tikslumas:4f}\")"
   ]
  }
 ],
 "metadata": {
  "kernelspec": {
   "display_name": "venv",
   "language": "python",
   "name": "python3"
  },
  "language_info": {
   "codemirror_mode": {
    "name": "ipython",
    "version": 3
   },
   "file_extension": ".py",
   "mimetype": "text/x-python",
   "name": "python",
   "nbconvert_exporter": "python",
   "pygments_lexer": "ipython3",
   "version": "3.12.8"
  }
 },
 "nbformat": 4,
 "nbformat_minor": 5
}
