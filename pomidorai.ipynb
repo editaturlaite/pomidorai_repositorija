{
 "cells": [
  {
   "cell_type": "code",
   "execution_count": 7,
   "id": "214a4054",
   "metadata": {},
   "outputs": [],
   "source": [
    "import matplotlib.pyplot as plt\n",
    "import tensorflow as tf\n",
    "from tensorflow import keras\n",
    "from tensorflow.keras import layers\n",
    "from tensorflow.keras.utils import load_img, img_to_array\n",
    "import pandas as pd\n",
    "import numpy as np\n",
    "from sqlalchemy import create_engine\n",
    "from sklearn.preprocessing import LabelEncoder\n",
    "from sqlalchemy import create_engine, Column, Integer, String, LargeBinary\n",
    "from sqlalchemy.orm import sessionmaker, declarative_base\n",
    "import os\n",
    "from sqlalchemy.orm import declarative_base"
   ]
  },
  {
   "cell_type": "code",
   "execution_count": 8,
   "id": "35310b3b",
   "metadata": {},
   "outputs": [],
   "source": [
    "train_kelias = r\"C:\\Users\\Vartotojas\\Desktop\\POMIDORAI\\pomidoru_duomenys\\trenyravimas\"\n",
    "val_kelias = r\"C:\\Users\\Vartotojas\\Desktop\\POMIDORAI\\pomidoru_duomenys\\validacija\"\n",
    "test_kelias = r\"C:\\Users\\Vartotojas\\Desktop\\POMIDORAI\\pomidoru_duomenys\\testas\""
   ]
  },
  {
   "cell_type": "code",
   "execution_count": 9,
   "id": "72461d83",
   "metadata": {},
   "outputs": [],
   "source": [
    "\n",
    "Bazine_klase = declarative_base()\n",
    "rysys_su_baze = create_engine('sqlite:///pomidoru_lapai.db')\n",
    "\n",
    "Session = sessionmaker(bind=rysys_su_baze)\n",
    "sesija = Session()"
   ]
  },
  {
   "cell_type": "code",
   "execution_count": 10,
   "id": "6df059d3",
   "metadata": {},
   "outputs": [],
   "source": [
    "class PomidoraiTrenyravimas(Bazine_klase):\n",
    "\n",
    "    __tablename__ = 'Pomidoru_lapai_trenyravimo_duomenys'\n",
    "\n",
    "    id = Column(Integer,primary_key = True)\n",
    "    kelias = Column(String, unique=True, nullable=False)  \n",
    "    klases_pavadinimas = Column(String, nullable=False)\n"
   ]
  },
  {
   "cell_type": "code",
   "execution_count": 11,
   "id": "a880e51d",
   "metadata": {},
   "outputs": [],
   "source": [
    "def irasyti_trenyravimo_paveikslelius(sesija, trenyravimo_kelias):\n",
    "\n",
    "    for klases_pavadinimas in os.listdir(trenyravimo_kelias):\n",
    "        klases_kelias = os.path.join(trenyravimo_kelias,klases_pavadinimas)\n",
    "\n",
    "        if os.path.isdir(klases_kelias):\n",
    "            for paveikslelio_pavadinimas in os.listdir(klases_kelias):\n",
    "                paveikslelio_kelias = os.path.join(klases_kelias,paveikslelio_pavadinimas)\n",
    "\n",
    "                egzistuoja = sesija.query(PomidoraiTrenyravimas).filter_by(kelias=paveikslelio_kelias).first()\n",
    "\n",
    "                if not egzistuoja:\n",
    "\n",
    "                    naujas_irasas = PomidoraiTrenyravimas(kelias = paveikslelio_kelias, klases_pavadinimas = klases_pavadinimas)\n",
    "\n",
    "                    sesija.add(naujas_irasas)\n",
    "\n",
    "    sesija.commit()\n",
    "\n",
    "    print(\"Irasyti trenyravimo paveiksleiai\")"
   ]
  },
  {
   "cell_type": "code",
   "execution_count": 12,
   "id": "acb0bf46",
   "metadata": {},
   "outputs": [],
   "source": [
    "class PomidoraiValidacija(Bazine_klase):\n",
    "\n",
    "    __tablename__ = 'Pomidoru_lapai_validacijos_duomenys'\n",
    "\n",
    "    id = Column(Integer,primary_key = True)\n",
    "    kelias = Column(String, unique=True, nullable=False)  \n",
    "    klases_pavadinimas = Column(String, nullable=False)\n",
    "\n",
    "def irasyti_validacijos_paveikslelius(sesija, validacijos_kelias):\n",
    "\n",
    "    for klases_pavadinimas in os.listdir(validacijos_kelias):\n",
    "        klases_kelias = os.path.join(validacijos_kelias,klases_pavadinimas)\n",
    "\n",
    "        if os.path.isdir(klases_kelias):\n",
    "            for paveikslelio_pavadinimas in os.listdir(klases_kelias):\n",
    "                paveikslelio_kelias = os.path.join(klases_kelias,paveikslelio_pavadinimas)\n",
    "\n",
    "                egzistuoja = sesija.query(PomidoraiValidacija).filter_by(kelias=paveikslelio_kelias).first()\n",
    "\n",
    "                if not egzistuoja:\n",
    "\n",
    "                    naujas_irasas = PomidoraiValidacija(kelias = paveikslelio_kelias, klases_pavadinimas = klases_pavadinimas)\n",
    "\n",
    "                    sesija.add(naujas_irasas)\n",
    "\n",
    "    sesija.commit()\n",
    "\n",
    "    print(\"Irasyti validacijos paveiksleiai\")"
   ]
  },
  {
   "cell_type": "code",
   "execution_count": 13,
   "id": "c23bb941",
   "metadata": {},
   "outputs": [],
   "source": [
    "class PomidoraiTestas(Bazine_klase):\n",
    "\n",
    "    __tablename__ = 'Pomidoru_lapai_testo_duomenys'\n",
    "\n",
    "    id = Column(Integer,primary_key = True)\n",
    "    kelias = Column(String, unique=True, nullable=False)  \n",
    "    klases_pavadinimas = Column(String, nullable=False)\n",
    "\n",
    "def irasyti_testo_paveikslelius(sesija, testo_kelias):\n",
    "\n",
    "    for klases_pavadinimas in os.listdir(test_kelias):\n",
    "        klases_kelias = os.path.join(test_kelias,klases_pavadinimas)\n",
    "\n",
    "        if os.path.isdir(klases_kelias):\n",
    "            for paveikslelio_pavadinimas in os.listdir(klases_kelias):\n",
    "                paveikslelio_kelias = os.path.join(klases_kelias,paveikslelio_pavadinimas)\n",
    "\n",
    "                egzistuoja = sesija.query(PomidoraiTestas).filter_by(kelias=paveikslelio_kelias).first()\n",
    "\n",
    "                if not egzistuoja:\n",
    "\n",
    "                    naujas_irasas = PomidoraiTestas(kelias = paveikslelio_kelias, klases_pavadinimas = klases_pavadinimas)\n",
    "\n",
    "                    sesija.add(naujas_irasas)\n",
    "\n",
    "    sesija.commit()\n",
    "\n",
    "    print(\"Irasyti testo paveiksleiai\")"
   ]
  },
  {
   "cell_type": "code",
   "execution_count": 14,
   "id": "31614eec",
   "metadata": {},
   "outputs": [
    {
     "name": "stdout",
     "output_type": "stream",
     "text": [
      "Irasyti trenyravimo paveiksleiai\n",
      "Irasyti validacijos paveiksleiai\n",
      "Irasyti testo paveiksleiai\n"
     ]
    }
   ],
   "source": [
    "Bazine_klase.metadata.create_all(rysys_su_baze)\n",
    "\n",
    "irasyti_trenyravimo_paveikslelius(sesija,train_kelias)\n",
    "irasyti_validacijos_paveikslelius(sesija,val_kelias)\n",
    "irasyti_testo_paveikslelius(sesija,test_kelias)"
   ]
  },
  {
   "cell_type": "code",
   "execution_count": 15,
   "id": "9fc21a58",
   "metadata": {},
   "outputs": [],
   "source": [
    "\n",
    "train_df = pd.read_sql_table('Pomidoru_lapai_trenyravimo_duomenys', con=rysys_su_baze)\n",
    "\n",
    "val_df = pd.read_sql_table('Pomidoru_lapai_validacijos_duomenys', con=rysys_su_baze)\n",
    "\n",
    "test_df = pd.read_sql_table('Pomidoru_lapai_testo_duomenys', con=rysys_su_baze)\n",
    "\n",
    "\n",
    "# print(train_df.head())\n",
    "# print(val_df.head())\n",
    "# print(test_df.head())"
   ]
  },
  {
   "cell_type": "code",
   "execution_count": 16,
   "id": "18b720b9",
   "metadata": {},
   "outputs": [],
   "source": [
    "def issitraukti_paveikslelius(df, dydis=(224, 224)):\n",
    "    paveiksleliai = []\n",
    "    klasifikacijos = []\n",
    "\n",
    "    for indeksas, eilute in df.iterrows():\n",
    "        paveikslelis = load_img(eilute['kelias'], target_size=dydis)\n",
    "        paveikslelis_array = img_to_array(paveikslelis)\n",
    "        paveiksleliai.append(paveikslelis_array)\n",
    "        klasifikacijos.append(eilute['klases_pavadinimas'])\n",
    "\n",
    "    return np.array(paveiksleliai), np.array(klasifikacijos)\n",
    "\n",
    "x_train, y_train = issitraukti_paveikslelius(train_df)\n",
    "x_val, y_val = issitraukti_paveikslelius(val_df)\n",
    "x_test, y_test = issitraukti_paveikslelius(test_df)"
   ]
  },
  {
   "cell_type": "code",
   "execution_count": 17,
   "id": "8ba892c7",
   "metadata": {},
   "outputs": [
    {
     "name": "stdout",
     "output_type": "stream",
     "text": [
      "Klases uzkoduotos\n"
     ]
    }
   ],
   "source": [
    "def uzkoduoti_klases_lable(y_train, y_val, y_test):\n",
    "\n",
    "    enkoderis = LabelEncoder()\n",
    "    y_train_skaiciais = enkoderis.fit_transform(y_train)\n",
    "    y_val_skaiciais = enkoderis.transform(y_val)\n",
    "    y_test_skaiciais = enkoderis.transform(y_test)\n",
    "\n",
    "    print(\"Klases uzkoduotos\")\n",
    "\n",
    "    return y_train_skaiciais,y_val_skaiciais,y_test_skaiciais\n",
    "\n",
    "y_train, y_val, y_test = uzkoduoti_klases_lable(y_train,y_val,y_test)"
   ]
  },
  {
   "cell_type": "markdown",
   "id": "03656737",
   "metadata": {},
   "source": [
    "HSV paveiksleliai\n",
    ".\n"
   ]
  },
  {
   "cell_type": "code",
   "execution_count": 54,
   "id": "e4eed33b",
   "metadata": {},
   "outputs": [],
   "source": [
    "import os\n",
    "import cv2\n",
    "import numpy as np\n",
    "from PIL import Image\n",
    "import tensorflow as tf"
   ]
  },
  {
   "cell_type": "code",
   "execution_count": null,
   "id": "50f0c94b",
   "metadata": {},
   "outputs": [],
   "source": [
    "def konvertuoti_i_hsv(pav_failo_kelias):\n",
    "    paveikslelis = cv2.imread(pav_failo_kelias)\n",
    "    paveikslelis = cv2.cvtColor(paveikslelis, cv2.COLOR_BGR2RGB)\n",
    "    hsv_paveikslelis = cv2.cvtColor(paveikslelis, cv2.COLOR_RGB2HSV)\n",
    "    return hsv_paveikslelis"
   ]
  },
  {
   "cell_type": "code",
   "execution_count": null,
   "id": "b007badc",
   "metadata": {},
   "outputs": [],
   "source": [
    "def issaugoti_hsv_paveiksleli(hsv_masyvas, issaugojimo_kelias):\n",
    "    rgb_masyvas = cv2.cvtColor(hsv_masyvas, cv2.COLOR_HSV2RGB)\n",
    "    paveikslelis = Image.fromarray(rgb_masyvas) #sukuriamas jpg. objektas is masyvo\n",
    "    paveikslelis.save(issaugojimo_kelias)"
   ]
  },
  {
   "cell_type": "code",
   "execution_count": null,
   "id": "3194aab3",
   "metadata": {},
   "outputs": [],
   "source": [
    "def konvertuoti_viska_i_hsv(pradinis_kelias, issaugojimo_kelias):\n",
    "    for aplanko_kelias in [\"trenyravimas\", \"validacija\", \"testas\"]:\n",
    "        pilno_aplanko_kelias = os.path.join(pradinis_kelias, aplanko_kelias)\n",
    "        naujo_aplanko_kelias = os.path.join(issaugojimo_kelias, aplanko_kelias)\n",
    "\n",
    "        for klases_kelias in os.listdir(pilno_aplanko_kelias):\n",
    "            pradzios_klases_aplanko_kelias= os.path.join(pilno_aplanko_kelias, klases_kelias)\n",
    "            naujos_klases_aplanko_kelias = os.path.join(naujo_aplanko_kelias, klases_kelias)\n",
    "            os.makedirs(naujos_klases_aplanko_kelias, exist_ok=True) # jei aplankas jau sukurtas eis prie kito veiksmo jei nera sukurs \n",
    "\n",
    "            for failo_pavadinimo_kelias in os.listdir(pradzios_klases_aplanko_kelias):\n",
    "                if failo_pavadinimo_kelias.lower().endswith(('.jpg', '.png', '.jpeg')):\n",
    "                    pilnas_failo_kelias = os.path.join(pradzios_klases_aplanko_kelias, failo_pavadinimo_kelias)\n",
    "                    hsv_paveikslelis = konvertuoti_i_hsv(pilnas_failo_kelias)\n",
    "                    pilnas_kelias_issaugojimui = os.path.join(naujos_klases_aplanko_kelias, failo_pavadinimo_kelias)\n",
    "                    issaugoti_hsv_paveiksleli(hsv_paveikslelis, pilnas_kelias_issaugojimui)"
   ]
  },
  {
   "cell_type": "code",
   "execution_count": 58,
   "id": "2a37a896",
   "metadata": {},
   "outputs": [],
   "source": [
    "pradinis_kelias = r\"C:\\Users\\Vartotojas\\Desktop\\POMIDORAI\\pomidoru_duomenys\"\n",
    "issaugojimo_kelias = r\"C:\\Users\\Vartotojas\\Desktop\\POMIDORAI\\pomidoru_duomenys_hsv\"\n",
    "konvertuoti_viska_i_hsv(pradinis_kelias, issaugojimo_kelias)"
   ]
  },
  {
   "cell_type": "code",
   "execution_count": 59,
   "id": "74dfa593",
   "metadata": {},
   "outputs": [],
   "source": [
    "dydis = (128, 128)\n",
    "batch_size = 32\n",
    "SEED = 42"
   ]
  },
  {
   "cell_type": "code",
   "execution_count": 68,
   "id": "84acda96",
   "metadata": {},
   "outputs": [
    {
     "name": "stdout",
     "output_type": "stream",
     "text": [
      "Found 4500 files belonging to 6 classes.\n",
      "HSV klasės: ['Tomato___Bacterial_spot', 'Tomato___Late_blight', 'Tomato___Septoria_leaf_spot', 'Tomato___Spider_mites Two-spotted_spider_mite', 'Tomato___Tomato_Yellow_Leaf_Curl_Virus', 'Tomato___healthy']\n",
      "Found 900 files belonging to 6 classes.\n",
      "Found 600 files belonging to 6 classes.\n"
     ]
    }
   ],
   "source": [
    "# 2. TRAIN: įkeliame HSV duomenis\n",
    "train_ds_hsv_raw = tf.keras.utils.image_dataset_from_directory(\n",
    "    os.path.join(issaugojimo_kelias, \"trenyravimas\"),\n",
    "    image_size=dydis,\n",
    "    batch_size=batch_size,\n",
    "    label_mode=\"categorical\",\n",
    "    seed=SEED,\n",
    "    shuffle=True\n",
    ")\n",
    "\n",
    "# 3. Pasiimam klasių pavadinimus iš train rinkinio (vieną kartą)\n",
    "klasiu_pavadinimai = train_ds_hsv_raw.class_names\n",
    "klasiu_skaicius = len(klasiu_pavadinimai)\n",
    "print(\"HSV klasės:\", klasiu_pavadinimai)\n",
    "\n",
    "# 4. VAL ir TEST: įkeliam be shuffle\n",
    "val_ds_hsv_raw = tf.keras.utils.image_dataset_from_directory(\n",
    "    os.path.join(issaugojimo_kelias, \"validacija\"),\n",
    "    image_size=dydis,\n",
    "    batch_size=batch_size,\n",
    "    label_mode=\"categorical\",\n",
    "    seed=SEED,\n",
    "    shuffle=False\n",
    ")\n",
    "\n",
    "test_ds_hsv_raw = tf.keras.utils.image_dataset_from_directory(\n",
    "    os.path.join(issaugojimo_kelias, \"testas\"),\n",
    "    image_size=dydis,\n",
    "    batch_size=batch_size,\n",
    "    label_mode=\"categorical\",\n",
    "    seed=SEED,\n",
    "    shuffle=False\n",
    ")\n",
    "\n",
    "# 5. Sukuriam normalizavimo sluoksnį (pikseliai 0–1)\n",
    "normalizavimas = tf.keras.layers.Rescaling(1./255)\n",
    "\n",
    "# 6. Taikom normalizavimą visiems trims rinkiniams\n",
    "train_ds_hsv = train_ds_hsv_raw.map(lambda x, y: (normalizavimas(x), y))\n",
    "val_ds_hsv = val_ds_hsv_raw.map(lambda x, y: (normalizavimas(x), y))\n",
    "test_ds_hsv = test_ds_hsv_raw.map(lambda x, y: (normalizavimas(x), y))"
   ]
  },
  {
   "cell_type": "code",
   "execution_count": 69,
   "id": "04d6e797",
   "metadata": {},
   "outputs": [],
   "source": [
    "def sukurti_pagerinta_cnn(ivesties_forma, klasiu_skaicius, learning_rate=0.001):\n",
    "    modelis = keras.Sequential([\n",
    "        layers.Conv2D(32, (3, 3), activation='relu', input_shape=ivesties_forma),\n",
    "        layers.BatchNormalization(),\n",
    "        layers.MaxPooling2D((2, 2)),\n",
    "\n",
    "        layers.Conv2D(64, (3, 3), activation='relu'),\n",
    "        layers.BatchNormalization(),\n",
    "        layers.MaxPooling2D((2, 2)),\n",
    "\n",
    "        layers.Flatten(),\n",
    "        layers.Dense(128, activation='relu'),\n",
    "        layers.Dropout(0.4),\n",
    "        layers.Dense(klasiu_skaicius, activation='softmax')\n",
    "    ])\n",
    "\n",
    "    optimizieris = keras.optimizers.Adam(learning_rate=learning_rate)\n",
    "\n",
    "    modelis.compile(\n",
    "        optimizer=optimizieris,\n",
    "        loss='categorical_crossentropy',\n",
    "        metrics=['accuracy']\n",
    "    )\n",
    "\n",
    "    return modelis\n"
   ]
  },
  {
   "cell_type": "code",
   "execution_count": 70,
   "id": "34edf76d",
   "metadata": {},
   "outputs": [
    {
     "name": "stderr",
     "output_type": "stream",
     "text": [
      "c:\\Users\\Vartotojas\\Desktop\\POMIDORAI\\pomidorai_repositorija\\venv\\Lib\\site-packages\\keras\\src\\layers\\convolutional\\base_conv.py:107: UserWarning: Do not pass an `input_shape`/`input_dim` argument to a layer. When using Sequential models, prefer using an `Input(shape)` object as the first layer in the model instead.\n",
      "  super().__init__(activity_regularizer=activity_regularizer, **kwargs)\n"
     ]
    }
   ],
   "source": [
    "modelis = sukurti_pagerinta_cnn((128, 128, 3), klasiu_skaicius)"
   ]
  },
  {
   "cell_type": "code",
   "execution_count": 72,
   "id": "55528441",
   "metadata": {},
   "outputs": [
    {
     "name": "stdout",
     "output_type": "stream",
     "text": [
      "Epoch 1/40\n",
      "\u001b[1m141/141\u001b[0m \u001b[32m━━━━━━━━━━━━━━━━━━━━\u001b[0m\u001b[37m\u001b[0m \u001b[1m128s\u001b[0m 902ms/step - accuracy: 0.5271 - loss: 5.5705 - val_accuracy: 0.1678 - val_loss: 27.3386\n",
      "Epoch 2/40\n",
      "\u001b[1m141/141\u001b[0m \u001b[32m━━━━━━━━━━━━━━━━━━━━\u001b[0m\u001b[37m\u001b[0m \u001b[1m115s\u001b[0m 818ms/step - accuracy: 0.6241 - loss: 1.0697 - val_accuracy: 0.2667 - val_loss: 32.2764\n",
      "Epoch 3/40\n",
      "\u001b[1m141/141\u001b[0m \u001b[32m━━━━━━━━━━━━━━━━━━━━\u001b[0m\u001b[37m\u001b[0m \u001b[1m109s\u001b[0m 773ms/step - accuracy: 0.6858 - loss: 0.9240 - val_accuracy: 0.5267 - val_loss: 2.5712\n",
      "Epoch 4/40\n",
      "\u001b[1m141/141\u001b[0m \u001b[32m━━━━━━━━━━━━━━━━━━━━\u001b[0m\u001b[37m\u001b[0m \u001b[1m122s\u001b[0m 626ms/step - accuracy: 0.7262 - loss: 0.8225 - val_accuracy: 0.2733 - val_loss: 21.0419\n",
      "Epoch 5/40\n",
      "\u001b[1m141/141\u001b[0m \u001b[32m━━━━━━━━━━━━━━━━━━━━\u001b[0m\u001b[37m\u001b[0m \u001b[1m139s\u001b[0m 605ms/step - accuracy: 0.7530 - loss: 0.7747 - val_accuracy: 0.4944 - val_loss: 2.9727\n",
      "Epoch 6/40\n",
      "\u001b[1m141/141\u001b[0m \u001b[32m━━━━━━━━━━━━━━━━━━━━\u001b[0m\u001b[37m\u001b[0m \u001b[1m84s\u001b[0m 597ms/step - accuracy: 0.7919 - loss: 0.6820 - val_accuracy: 0.7067 - val_loss: 2.0633\n",
      "Epoch 7/40\n",
      "\u001b[1m141/141\u001b[0m \u001b[32m━━━━━━━━━━━━━━━━━━━━\u001b[0m\u001b[37m\u001b[0m \u001b[1m86s\u001b[0m 611ms/step - accuracy: 0.8270 - loss: 0.5272 - val_accuracy: 0.8444 - val_loss: 0.5910\n",
      "Epoch 8/40\n",
      "\u001b[1m141/141\u001b[0m \u001b[32m━━━━━━━━━━━━━━━━━━━━\u001b[0m\u001b[37m\u001b[0m \u001b[1m84s\u001b[0m 595ms/step - accuracy: 0.8244 - loss: 0.5406 - val_accuracy: 0.3600 - val_loss: 11.6265\n",
      "Epoch 9/40\n",
      "\u001b[1m141/141\u001b[0m \u001b[32m━━━━━━━━━━━━━━━━━━━━\u001b[0m\u001b[37m\u001b[0m \u001b[1m81s\u001b[0m 575ms/step - accuracy: 0.8185 - loss: 0.5855 - val_accuracy: 0.7822 - val_loss: 1.1427\n",
      "Epoch 10/40\n",
      "\u001b[1m141/141\u001b[0m \u001b[32m━━━━━━━━━━━━━━━━━━━━\u001b[0m\u001b[37m\u001b[0m \u001b[1m82s\u001b[0m 580ms/step - accuracy: 0.8426 - loss: 0.4933 - val_accuracy: 0.3789 - val_loss: 14.4632\n",
      "Epoch 11/40\n",
      "\u001b[1m141/141\u001b[0m \u001b[32m━━━━━━━━━━━━━━━━━━━━\u001b[0m\u001b[37m\u001b[0m \u001b[1m82s\u001b[0m 578ms/step - accuracy: 0.8660 - loss: 0.3910 - val_accuracy: 0.5044 - val_loss: 3.6555\n",
      "\u001b[1m19/19\u001b[0m \u001b[32m━━━━━━━━━━━━━━━━━━━━\u001b[0m\u001b[37m\u001b[0m \u001b[1m4s\u001b[0m 217ms/step - accuracy: 0.7912 - loss: 0.7360\n",
      "Testo nuostolis (loss): 0.6348\n",
      "Testo tikslumas (accuracy): 0.8200\n"
     ]
    }
   ],
   "source": [
    "from tensorflow.keras.callbacks import EarlyStopping\n",
    "\n",
    "# Sustabdymas, jei val_loss negerėja 4 epohas iš eilės\n",
    "sustabdymas = EarlyStopping(\n",
    "    monitor='val_loss',\n",
    "    patience=4,\n",
    "    restore_best_weights=True\n",
    ")\n",
    "\n",
    "# Modelio treniravimas\n",
    "history = modelis.fit(\n",
    "    train_ds_hsv,\n",
    "    validation_data=val_ds_hsv,\n",
    "    epochs=40,\n",
    "    callbacks=[sustabdymas]\n",
    ")\n",
    "\n",
    "nuostolis, tikslumas = modelis.evaluate(test_ds_hsv, verbose=1)\n",
    "\n",
    "print(f\"Testo nuostolis (loss): {nuostolis:.4f}\")\n",
    "print(f\"Testo tikslumas (accuracy): {tikslumas:.4f}\")"
   ]
  }
 ],
 "metadata": {
  "kernelspec": {
   "display_name": "venv",
   "language": "python",
   "name": "python3"
  },
  "language_info": {
   "codemirror_mode": {
    "name": "ipython",
    "version": 3
   },
   "file_extension": ".py",
   "mimetype": "text/x-python",
   "name": "python",
   "nbconvert_exporter": "python",
   "pygments_lexer": "ipython3",
   "version": "3.12.8"
  }
 },
 "nbformat": 4,
 "nbformat_minor": 5
}
