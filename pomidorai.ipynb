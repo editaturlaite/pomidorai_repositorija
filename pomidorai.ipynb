{
 "cells": [
  {
   "cell_type": "code",
   "execution_count": 23,
   "id": "214a4054",
   "metadata": {},
   "outputs": [],
   "source": [
    "import matplotlib.pyplot as plt\n",
    "import tensorflow as tf\n",
    "from tensorflow import keras\n",
    "from tensorflow.keras import layers\n",
    "from tensorflow.keras.utils import load_img, img_to_array\n",
    "import pandas as pd\n",
    "import numpy as np\n",
    "from sqlalchemy import create_engine\n",
    "from sklearn.preprocessing import LabelEncoder\n",
    "from sqlalchemy import create_engine, Column, Integer, String, LargeBinary\n",
    "from sqlalchemy.orm import sessionmaker, declarative_base\n",
    "import os\n",
    "from sqlalchemy.orm import declarative_base"
   ]
  },
  {
   "cell_type": "code",
   "execution_count": 24,
   "id": "35310b3b",
   "metadata": {},
   "outputs": [],
   "source": [
    "train_kelias = r\"C:\\Users\\Vartotojas\\Desktop\\POMIDORAI\\pomidoru_duomenys\\trenyravimas\"\n",
    "val_kelias = r\"C:\\Users\\Vartotojas\\Desktop\\POMIDORAI\\pomidoru_duomenys\\validacija\"\n",
    "test_kelias = r\"C:\\Users\\Vartotojas\\Desktop\\POMIDORAI\\pomidoru_duomenys\\testas\""
   ]
  },
  {
   "cell_type": "code",
   "execution_count": 25,
   "id": "72461d83",
   "metadata": {},
   "outputs": [],
   "source": [
    "\n",
    "Bazine_klase = declarative_base()\n",
    "rysys_su_baze = create_engine('sqlite:///pomidoru_lapai.db')\n",
    "\n",
    "Session = sessionmaker(bind=rysys_su_baze)\n",
    "sesija = Session()"
   ]
  },
  {
   "cell_type": "code",
   "execution_count": 26,
   "id": "6df059d3",
   "metadata": {},
   "outputs": [],
   "source": [
    "class PomidoraiTrenyravimas(Bazine_klase):\n",
    "\n",
    "    __tablename__ = 'Pomidoru_lapai_trenyravimo_duomenys'\n",
    "\n",
    "    id = Column(Integer,primary_key = True)\n",
    "    kelias = Column(String, unique=True, nullable=False)  \n",
    "    klases_pavadinimas = Column(String, nullable=False)\n"
   ]
  },
  {
   "cell_type": "code",
   "execution_count": 27,
   "id": "a880e51d",
   "metadata": {},
   "outputs": [],
   "source": [
    "def irasyti_trenyravimo_paveikslelius(sesija, trenyravimo_kelias):\n",
    "\n",
    "    for klases_pavadinimas in os.listdir(trenyravimo_kelias):\n",
    "        klases_kelias = os.path.join(trenyravimo_kelias,klases_pavadinimas)\n",
    "\n",
    "        if os.path.isdir(klases_kelias):\n",
    "            for paveikslelio_pavadinimas in os.listdir(klases_kelias):\n",
    "                paveikslelio_kelias = os.path.join(klases_kelias,paveikslelio_pavadinimas)\n",
    "\n",
    "                egzistuoja = sesija.query(PomidoraiTrenyravimas).filter_by(kelias=paveikslelio_kelias).first()\n",
    "\n",
    "                if not egzistuoja:\n",
    "\n",
    "                    naujas_irasas = PomidoraiTrenyravimas(kelias = paveikslelio_kelias, klases_pavadinimas = klases_pavadinimas)\n",
    "\n",
    "                    sesija.add(naujas_irasas)\n",
    "\n",
    "    sesija.commit()\n",
    "\n",
    "    print(\"Irasyti trenyravimo paveiksleiai\")"
   ]
  },
  {
   "cell_type": "code",
   "execution_count": 28,
   "id": "acb0bf46",
   "metadata": {},
   "outputs": [],
   "source": [
    "class PomidoraiValidacija(Bazine_klase):\n",
    "\n",
    "    __tablename__ = 'Pomidoru_lapai_validacijos_duomenys'\n",
    "\n",
    "    id = Column(Integer,primary_key = True)\n",
    "    kelias = Column(String, unique=True, nullable=False)  \n",
    "    klases_pavadinimas = Column(String, nullable=False)\n",
    "\n",
    "def irasyti_validacijos_paveikslelius(sesija, validacijos_kelias):\n",
    "\n",
    "    for klases_pavadinimas in os.listdir(validacijos_kelias):\n",
    "        klases_kelias = os.path.join(validacijos_kelias,klases_pavadinimas)\n",
    "\n",
    "        if os.path.isdir(klases_kelias):\n",
    "            for paveikslelio_pavadinimas in os.listdir(klases_kelias):\n",
    "                paveikslelio_kelias = os.path.join(klases_kelias,paveikslelio_pavadinimas)\n",
    "\n",
    "                egzistuoja = sesija.query(PomidoraiValidacija).filter_by(kelias=paveikslelio_kelias).first()\n",
    "\n",
    "                if not egzistuoja:\n",
    "\n",
    "                    naujas_irasas = PomidoraiValidacija(kelias = paveikslelio_kelias, klases_pavadinimas = klases_pavadinimas)\n",
    "\n",
    "                    sesija.add(naujas_irasas)\n",
    "\n",
    "    sesija.commit()\n",
    "\n",
    "    print(\"Irasyti validacijos paveiksleiai\")"
   ]
  },
  {
   "cell_type": "code",
   "execution_count": 29,
   "id": "c23bb941",
   "metadata": {},
   "outputs": [],
   "source": [
    "class PomidoraiTestas(Bazine_klase):\n",
    "\n",
    "    __tablename__ = 'Pomidoru_lapai_testo_duomenys'\n",
    "\n",
    "    id = Column(Integer,primary_key = True)\n",
    "    kelias = Column(String, unique=True, nullable=False)  \n",
    "    klases_pavadinimas = Column(String, nullable=False)\n",
    "\n",
    "def irasyti_testo_paveikslelius(sesija, testo_kelias):\n",
    "\n",
    "    for klases_pavadinimas in os.listdir(test_kelias):\n",
    "        klases_kelias = os.path.join(test_kelias,klases_pavadinimas)\n",
    "\n",
    "        if os.path.isdir(klases_kelias):\n",
    "            for paveikslelio_pavadinimas in os.listdir(klases_kelias):\n",
    "                paveikslelio_kelias = os.path.join(klases_kelias,paveikslelio_pavadinimas)\n",
    "\n",
    "                egzistuoja = sesija.query(PomidoraiTestas).filter_by(kelias=paveikslelio_kelias).first()\n",
    "\n",
    "                if not egzistuoja:\n",
    "\n",
    "                    naujas_irasas = PomidoraiTestas(kelias = paveikslelio_kelias, klases_pavadinimas = klases_pavadinimas)\n",
    "\n",
    "                    sesija.add(naujas_irasas)\n",
    "\n",
    "    sesija.commit()\n",
    "\n",
    "    print(\"Irasyti testo paveiksleiai\")"
   ]
  },
  {
   "cell_type": "code",
   "execution_count": 30,
   "id": "31614eec",
   "metadata": {},
   "outputs": [
    {
     "name": "stdout",
     "output_type": "stream",
     "text": [
      "Irasyti trenyravimo paveiksleiai\n",
      "Irasyti validacijos paveiksleiai\n",
      "Irasyti testo paveiksleiai\n"
     ]
    }
   ],
   "source": [
    "Bazine_klase.metadata.create_all(rysys_su_baze)\n",
    "\n",
    "irasyti_trenyravimo_paveikslelius(sesija,train_kelias)\n",
    "irasyti_validacijos_paveikslelius(sesija,val_kelias)\n",
    "irasyti_testo_paveikslelius(sesija,test_kelias)"
   ]
  },
  {
   "cell_type": "code",
   "execution_count": 31,
   "id": "9fc21a58",
   "metadata": {},
   "outputs": [],
   "source": [
    "\n",
    "train_df = pd.read_sql_table('Pomidoru_lapai_trenyravimo_duomenys', con=rysys_su_baze)\n",
    "\n",
    "val_df = pd.read_sql_table('Pomidoru_lapai_validacijos_duomenys', con=rysys_su_baze)\n",
    "\n",
    "test_df = pd.read_sql_table('Pomidoru_lapai_testo_duomenys', con=rysys_su_baze)\n",
    "\n",
    "\n",
    "# print(train_df.head())\n",
    "# print(val_df.head())\n",
    "# print(test_df.head())"
   ]
  },
  {
   "cell_type": "code",
   "execution_count": 32,
   "id": "18b720b9",
   "metadata": {},
   "outputs": [],
   "source": [
    "def issitraukti_paveikslelius(df, dydis=(128,128)):\n",
    "    paveiksleliai = []\n",
    "    klasifikacijos = []\n",
    "\n",
    "    for indeksas, eilute in df.iterrows():\n",
    "        paveikslelis = load_img(eilute['kelias'], target_size=dydis)\n",
    "        paveikslelis_array = img_to_array(paveikslelis)\n",
    "        paveiksleliai.append(paveikslelis_array)\n",
    "        klasifikacijos.append(eilute['klases_pavadinimas'])\n",
    "\n",
    "    return np.array(paveiksleliai), np.array(klasifikacijos)\n",
    "\n",
    "x_train, y_train = issitraukti_paveikslelius(train_df)\n",
    "x_val, y_val = issitraukti_paveikslelius(val_df)\n",
    "x_test, y_test = issitraukti_paveikslelius(test_df)\n",
    "\n",
    "x_train = x_train.astype(\"float32\") / 255.0\n",
    "x_val = x_val.astype(\"float32\") / 255.0\n",
    "x_test = x_test.astype(\"float32\") / 255.0"
   ]
  },
  {
   "cell_type": "code",
   "execution_count": 33,
   "id": "61b035d1",
   "metadata": {},
   "outputs": [],
   "source": [
    "from sklearn.preprocessing import LabelEncoder\n",
    "from tensorflow.keras.utils import to_categorical"
   ]
  },
  {
   "cell_type": "code",
   "execution_count": 34,
   "id": "8ba892c7",
   "metadata": {},
   "outputs": [
    {
     "name": "stdout",
     "output_type": "stream",
     "text": [
      "Klases uzkoduotos\n",
      "Paversta i kategorinius\n"
     ]
    }
   ],
   "source": [
    "def uzkoduoti_klases_lable_onehot(y_train, y_val, y_test):\n",
    "\n",
    "    enkoderis = LabelEncoder()\n",
    "    y_train_skaiciais = enkoderis.fit_transform(y_train)\n",
    "    y_val_skaiciais = enkoderis.transform(y_val)\n",
    "    y_test_skaiciais = enkoderis.transform(y_test)\n",
    "\n",
    "    print(\"Klases uzkoduotos\")\n",
    "\n",
    "    y_train_kategorijos = to_categorical(y_train_skaiciais)\n",
    "    y_val_kategorijos = to_categorical(y_val_skaiciais)\n",
    "    y_test_kategorijos = to_categorical(y_test_skaiciais)\n",
    "\n",
    "    print(\"Paversta i kategorinius\")\n",
    "\n",
    "    return y_train_kategorijos, y_val_kategorijos, y_test_kategorijos\n",
    "\n",
    "\n",
    "y_train, y_val, y_test = uzkoduoti_klases_lable_onehot(y_train,y_val,y_test)"
   ]
  },
  {
   "cell_type": "code",
   "execution_count": 35,
   "id": "e4eed33b",
   "metadata": {},
   "outputs": [],
   "source": [
    "import tensorflow as tf\n",
    "from tensorflow import keras\n",
    "from tensorflow.keras import layers, models\n",
    "from sklearn.preprocessing import LabelEncoder\n",
    "import os, random, numpy as np, tensorflow as tf\n",
    "\n",
    "SEED = 42\n",
    "os.environ['PYTHONHASHSEED'] = str(SEED)\n",
    "random.seed(SEED)\n",
    "np.random.seed(SEED)\n",
    "tf.random.set_seed(SEED)"
   ]
  },
  {
   "cell_type": "code",
   "execution_count": 36,
   "id": "05fd3c06",
   "metadata": {},
   "outputs": [],
   "source": [
    "def sukurti_paprasta_cnn(įvesties_forma, klasiu_skaicius, learning_rate=0.0001):\n",
    "    modelis = keras.Sequential([\n",
    "        layers.Conv2D(32, (3, 3), activation='relu', input_shape=įvesties_forma),\n",
    "        layers.BatchNormalization(),\n",
    "        layers.MaxPooling2D((2, 2)),\n",
    "\n",
    "        layers.Conv2D(64, (3, 3), activation='relu'),\n",
    "        layers.BatchNormalization(),\n",
    "        layers.MaxPooling2D((2, 2)),\n",
    "\n",
    "        layers.Flatten(),\n",
    "        layers.Dense(128, activation='relu'),\n",
    "        layers.Dropout(0.4),\n",
    "        layers.Dense(klasiu_skaicius, activation='softmax')])\n",
    "\n",
    "    optimizeris = keras.optimizers.Adam(learning_rate=learning_rate)\n",
    "\n",
    "    modelis.compile(optimizer=optimizeris, loss='categorical_crossentropy',metrics=['accuracy'])\n",
    "\n",
    "    return modelis"
   ]
  },
  {
   "cell_type": "code",
   "execution_count": 37,
   "id": "4c6bb1d8",
   "metadata": {},
   "outputs": [
    {
     "name": "stderr",
     "output_type": "stream",
     "text": [
      "c:\\Users\\Vartotojas\\Desktop\\POMIDORAI\\pomidorai_repositorija\\venv\\Lib\\site-packages\\keras\\src\\layers\\convolutional\\base_conv.py:107: UserWarning: Do not pass an `input_shape`/`input_dim` argument to a layer. When using Sequential models, prefer using an `Input(shape)` object as the first layer in the model instead.\n",
      "  super().__init__(activity_regularizer=activity_regularizer, **kwargs)\n"
     ]
    }
   ],
   "source": [
    "klasiu_skaicius = y_train.shape[1]\n",
    "\n",
    "modelis = sukurti_paprasta_cnn((128, 128, 3), klasiu_skaicius)"
   ]
  },
  {
   "cell_type": "code",
   "execution_count": 40,
   "id": "6e8a5f4a",
   "metadata": {},
   "outputs": [
    {
     "name": "stdout",
     "output_type": "stream",
     "text": [
      "Epoch 1/40\n",
      "\u001b[1m141/141\u001b[0m \u001b[32m━━━━━━━━━━━━━━━━━━━━\u001b[0m\u001b[37m\u001b[0m \u001b[1m93s\u001b[0m 656ms/step - accuracy: 0.9241 - loss: 0.2230 - val_accuracy: 0.9444 - val_loss: 0.1739\n",
      "Epoch 2/40\n",
      "\u001b[1m141/141\u001b[0m \u001b[32m━━━━━━━━━━━━━━━━━━━━\u001b[0m\u001b[37m\u001b[0m \u001b[1m85s\u001b[0m 605ms/step - accuracy: 0.9518 - loss: 0.1442 - val_accuracy: 0.9489 - val_loss: 0.1817\n",
      "Epoch 3/40\n",
      "\u001b[1m141/141\u001b[0m \u001b[32m━━━━━━━━━━━━━━━━━━━━\u001b[0m\u001b[37m\u001b[0m \u001b[1m83s\u001b[0m 593ms/step - accuracy: 0.9644 - loss: 0.1073 - val_accuracy: 0.9333 - val_loss: 0.2652\n",
      "Epoch 4/40\n",
      "\u001b[1m141/141\u001b[0m \u001b[32m━━━━━━━━━━━━━━━━━━━━\u001b[0m\u001b[37m\u001b[0m \u001b[1m85s\u001b[0m 600ms/step - accuracy: 0.9678 - loss: 0.0823 - val_accuracy: 0.9578 - val_loss: 0.1439\n",
      "Epoch 5/40\n",
      "\u001b[1m141/141\u001b[0m \u001b[32m━━━━━━━━━━━━━━━━━━━━\u001b[0m\u001b[37m\u001b[0m \u001b[1m99s\u001b[0m 706ms/step - accuracy: 0.9808 - loss: 0.0593 - val_accuracy: 0.9589 - val_loss: 0.1502\n",
      "Epoch 6/40\n",
      "\u001b[1m141/141\u001b[0m \u001b[32m━━━━━━━━━━━━━━━━━━━━\u001b[0m\u001b[37m\u001b[0m \u001b[1m134s\u001b[0m 644ms/step - accuracy: 0.9810 - loss: 0.0605 - val_accuracy: 0.9578 - val_loss: 0.1806\n",
      "Epoch 7/40\n",
      "\u001b[1m141/141\u001b[0m \u001b[32m━━━━━━━━━━━━━━━━━━━━\u001b[0m\u001b[37m\u001b[0m \u001b[1m85s\u001b[0m 601ms/step - accuracy: 0.9852 - loss: 0.0544 - val_accuracy: 0.9500 - val_loss: 0.2093\n",
      "Epoch 8/40\n",
      "\u001b[1m141/141\u001b[0m \u001b[32m━━━━━━━━━━━━━━━━━━━━\u001b[0m\u001b[37m\u001b[0m \u001b[1m145s\u001b[0m 623ms/step - accuracy: 0.9821 - loss: 0.0454 - val_accuracy: 0.9578 - val_loss: 0.1454\n",
      "Epoch 9/40\n",
      "\u001b[1m141/141\u001b[0m \u001b[32m━━━━━━━━━━━━━━━━━━━━\u001b[0m\u001b[37m\u001b[0m \u001b[1m98s\u001b[0m 697ms/step - accuracy: 0.9867 - loss: 0.0407 - val_accuracy: 0.9411 - val_loss: 0.2788\n",
      "Epoch 10/40\n",
      "\u001b[1m141/141\u001b[0m \u001b[32m━━━━━━━━━━━━━━━━━━━━\u001b[0m\u001b[37m\u001b[0m \u001b[1m82s\u001b[0m 581ms/step - accuracy: 0.9864 - loss: 0.0431 - val_accuracy: 0.9656 - val_loss: 0.1760\n",
      "Epoch 11/40\n",
      "\u001b[1m141/141\u001b[0m \u001b[32m━━━━━━━━━━━━━━━━━━━━\u001b[0m\u001b[37m\u001b[0m \u001b[1m80s\u001b[0m 564ms/step - accuracy: 0.9847 - loss: 0.0431 - val_accuracy: 0.9544 - val_loss: 0.2744\n",
      "Epoch 12/40\n",
      "\u001b[1m141/141\u001b[0m \u001b[32m━━━━━━━━━━━━━━━━━━━━\u001b[0m\u001b[37m\u001b[0m \u001b[1m82s\u001b[0m 567ms/step - accuracy: 0.9869 - loss: 0.0421 - val_accuracy: 0.9267 - val_loss: 0.2865\n",
      "\u001b[1m19/19\u001b[0m \u001b[32m━━━━━━━━━━━━━━━━━━━━\u001b[0m\u001b[37m\u001b[0m \u001b[1m2s\u001b[0m 92ms/step - accuracy: 0.9242 - loss: 0.2092\n",
      "Testo loss: 0.20764391124248505\n",
      "Testo accuracy: 0.9283333420753479\n"
     ]
    },
    {
     "name": "stderr",
     "output_type": "stream",
     "text": [
      "WARNING:absl:You are saving your model as an HDF5 file via `model.save()` or `keras.saving.save_model(model)`. This file format is considered legacy. We recommend using instead the native Keras format, e.g. `model.save('my_model.keras')` or `keras.saving.save_model(model, 'my_model.keras')`. \n"
     ]
    }
   ],
   "source": [
    "from tensorflow.keras.callbacks import EarlyStopping\n",
    "\n",
    "sustabdymas = EarlyStopping(monitor='val_loss', patience=8, restore_best_weights=True)\n",
    "\n",
    "history = modelis.fit(x_train, y_train, validation_data=(x_val, y_val),epochs=40,batch_size=32,callbacks=[sustabdymas])\n",
    "\n",
    "nuostolis, tikslumas = modelis.evaluate(x_test, y_test, verbose=1)\n",
    "\n",
    "print(f\"Testo loss: {nuostolis}\")\n",
    "print(f\"Testo accuracy: {tikslumas}\")\n",
    "\n",
    "modelis.save(\"mano_modelis.h5\")"
   ]
  },
  {
   "cell_type": "code",
   "execution_count": 41,
   "id": "d7468265",
   "metadata": {},
   "outputs": [
    {
     "name": "stdout",
     "output_type": "stream",
     "text": [
      "\u001b[1m19/19\u001b[0m \u001b[32m━━━━━━━━━━━━━━━━━━━━\u001b[0m\u001b[37m\u001b[0m \u001b[1m2s\u001b[0m 98ms/step\n"
     ]
    }
   ],
   "source": [
    "import numpy as np\n",
    "\n",
    "y_pradines = np.argmax(y_test, axis=1)\n",
    "\n",
    "y_prognoze = modelis.predict(x_test)\n",
    "y_prognoze = np.argmax(y_prognoze, axis=1)"
   ]
  },
  {
   "cell_type": "code",
   "execution_count": 49,
   "id": "36834182",
   "metadata": {},
   "outputs": [
    {
     "data": {
      "image/png": "[encoded data removed]",
      "text/plain": [
       "<Figure size 640x480 with 2 Axes>"
      ]
     },
     "metadata": {},
     "output_type": "display_data"
    }
   ],
   "source": [
    "from sklearn.metrics import confusion_matrix, ConfusionMatrixDisplay\n",
    "import matplotlib.pyplot as plt\n",
    "\n",
    "klasiu_pavadinimai = ['Bacterial_spot', 'Late_blight', 'Septoria_leaf_spot', 'Spider_mites', 'Tomato_Yellow_Leaf_Curl_Virus', 'healthy']\n",
    "\n",
    "matrica = confusion_matrix(y_pradines, y_prognoze)\n",
    "disp = ConfusionMatrixDisplay(confusion_matrix=matrica, display_labels=klasiu_pavadinimai)\n",
    "disp.plot(xticks_rotation=40, cmap='Blues')\n",
    "plt.title(\"Confusion Matrix\")\n",
    "plt.tight_layout()\n",
    "plt.show()\n"
   ]
  },
  {
   "cell_type": "code",
   "execution_count": 52,
   "id": "baa70e9d",
   "metadata": {},
   "outputs": [
    {
     "name": "stdout",
     "output_type": "stream",
     "text": [
      "                               precision    recall  f1-score   support\n",
      "\n",
      "               Bacterial_spot     0.9293    0.9200    0.9246       100\n",
      "                  Late_blight     0.9651    0.8300    0.8925       100\n",
      "           Septoria_leaf_spot     0.9091    0.9000    0.9045       100\n",
      "                 Spider_mites     0.9143    0.9600    0.9366       100\n",
      "Tomato_Yellow_Leaf_Curl_Virus     0.8899    0.9700    0.9282       100\n",
      "                      healthy     0.9706    0.9900    0.9802       100\n",
      "\n",
      "                     accuracy                         0.9283       600\n",
      "                    macro avg     0.9297    0.9283    0.9278       600\n",
      "                 weighted avg     0.9297    0.9283    0.9278       600\n",
      "\n"
     ]
    }
   ],
   "source": [
    "from sklearn.metrics import classification_report\n",
    "\n",
    "print(classification_report(y_pradines, y_prognoze, target_names=klasiu_pavadinimai, digits=4))"
   ]
  }
 ],
 "metadata": {
  "kernelspec": {
   "display_name": "venv",
   "language": "python",
   "name": "python3"
  },
  "language_info": {
   "codemirror_mode": {
    "name": "ipython",
    "version": 3
   },
   "file_extension": ".py",
   "mimetype": "text/x-python",
   "name": "python",
   "nbconvert_exporter": "python",
   "pygments_lexer": "ipython3",
   "version": "3.12.8"
  }
 },
 "nbformat": 4,
 "nbformat_minor": 5
}
