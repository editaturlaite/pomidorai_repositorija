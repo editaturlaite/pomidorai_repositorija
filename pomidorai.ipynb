{
 "cells": [
  {
   "cell_type": "code",
   "execution_count": 73,
   "id": "214a4054",
   "metadata": {},
   "outputs": [],
   "source": [
    "import matplotlib.pyplot as plt\n",
    "import tensorflow as tf\n",
    "from tensorflow import keras\n",
    "from tensorflow.keras import layers\n",
    "from tensorflow.keras.utils import load_img, img_to_array\n",
    "import pandas as pd\n",
    "import numpy as np\n",
    "from sqlalchemy import create_engine\n",
    "from sklearn.preprocessing import LabelEncoder\n",
    "from sqlalchemy import create_engine, Column, Integer, String, LargeBinary\n",
    "from sqlalchemy.orm import sessionmaker, declarative_base\n",
    "import os\n",
    "from sqlalchemy.orm import declarative_base"
   ]
  },
  {
   "cell_type": "code",
   "execution_count": 8,
   "id": "35310b3b",
   "metadata": {},
   "outputs": [],
   "source": [
    "train_kelias = r\"C:\\Users\\Vartotojas\\Desktop\\POMIDORAI\\pomidoru_duomenys\\trenyravimas\"\n",
    "val_kelias = r\"C:\\Users\\Vartotojas\\Desktop\\POMIDORAI\\pomidoru_duomenys\\validacija\"\n",
    "test_kelias = r\"C:\\Users\\Vartotojas\\Desktop\\POMIDORAI\\pomidoru_duomenys\\testas\""
   ]
  },
  {
   "cell_type": "code",
   "execution_count": 74,
   "id": "72461d83",
   "metadata": {},
   "outputs": [],
   "source": [
    "\n",
    "Bazine_klase = declarative_base()\n",
    "rysys_su_baze = create_engine('sqlite:///pomidoru_lapai.db')\n",
    "\n",
    "Session = sessionmaker(bind=rysys_su_baze)\n",
    "sesija = Session()"
   ]
  },
  {
   "cell_type": "code",
   "execution_count": 10,
   "id": "6df059d3",
   "metadata": {},
   "outputs": [],
   "source": [
    "class PomidoraiTrenyravimas(Bazine_klase):\n",
    "\n",
    "    __tablename__ = 'Pomidoru_lapai_trenyravimo_duomenys'\n",
    "\n",
    "    id = Column(Integer,primary_key = True)\n",
    "    kelias = Column(String, unique=True, nullable=False)  \n",
    "    klases_pavadinimas = Column(String, nullable=False)\n"
   ]
  },
  {
   "cell_type": "code",
   "execution_count": 11,
   "id": "a880e51d",
   "metadata": {},
   "outputs": [],
   "source": [
    "def irasyti_trenyravimo_paveikslelius(sesija, trenyravimo_kelias):\n",
    "\n",
    "    for klases_pavadinimas in os.listdir(trenyravimo_kelias):\n",
    "        klases_kelias = os.path.join(trenyravimo_kelias,klases_pavadinimas)\n",
    "\n",
    "        if os.path.isdir(klases_kelias):\n",
    "            for paveikslelio_pavadinimas in os.listdir(klases_kelias):\n",
    "                paveikslelio_kelias = os.path.join(klases_kelias,paveikslelio_pavadinimas)\n",
    "\n",
    "                egzistuoja = sesija.query(PomidoraiTrenyravimas).filter_by(kelias=paveikslelio_kelias).first()\n",
    "\n",
    "                if not egzistuoja:\n",
    "\n",
    "                    naujas_irasas = PomidoraiTrenyravimas(kelias = paveikslelio_kelias, klases_pavadinimas = klases_pavadinimas)\n",
    "\n",
    "                    sesija.add(naujas_irasas)\n",
    "\n",
    "    sesija.commit()\n",
    "\n",
    "    print(\"Irasyti trenyravimo paveiksleiai\")"
   ]
  },
  {
   "cell_type": "code",
   "execution_count": 12,
   "id": "acb0bf46",
   "metadata": {},
   "outputs": [],
   "source": [
    "class PomidoraiValidacija(Bazine_klase):\n",
    "\n",
    "    __tablename__ = 'Pomidoru_lapai_validacijos_duomenys'\n",
    "\n",
    "    id = Column(Integer,primary_key = True)\n",
    "    kelias = Column(String, unique=True, nullable=False)  \n",
    "    klases_pavadinimas = Column(String, nullable=False)\n",
    "\n",
    "def irasyti_validacijos_paveikslelius(sesija, validacijos_kelias):\n",
    "\n",
    "    for klases_pavadinimas in os.listdir(validacijos_kelias):\n",
    "        klases_kelias = os.path.join(validacijos_kelias,klases_pavadinimas)\n",
    "\n",
    "        if os.path.isdir(klases_kelias):\n",
    "            for paveikslelio_pavadinimas in os.listdir(klases_kelias):\n",
    "                paveikslelio_kelias = os.path.join(klases_kelias,paveikslelio_pavadinimas)\n",
    "\n",
    "                egzistuoja = sesija.query(PomidoraiValidacija).filter_by(kelias=paveikslelio_kelias).first()\n",
    "\n",
    "                if not egzistuoja:\n",
    "\n",
    "                    naujas_irasas = PomidoraiValidacija(kelias = paveikslelio_kelias, klases_pavadinimas = klases_pavadinimas)\n",
    "\n",
    "                    sesija.add(naujas_irasas)\n",
    "\n",
    "    sesija.commit()\n",
    "\n",
    "    print(\"Irasyti validacijos paveiksleiai\")"
   ]
  },
  {
   "cell_type": "code",
   "execution_count": null,
   "id": "c23bb941",
   "metadata": {},
   "outputs": [],
   "source": [
    "class PomidoraiTestas(Bazine_klase):\n",
    "\n",
    "    __tablename__ = 'Pomidoru_lapai_testo_duomenys'\n",
    "\n",
    "    id = Column(Integer,primary_key = True)\n",
    "    kelias = Column(String, unique=True, nullable=False)  \n",
    "    klases_pavadinimas = Column(String, nullable=False)\n",
    "\n",
    "def irasyti_testo_paveikslelius(sesija, testo_kelias):\n",
    "\n",
    "    for klases_pavadinimas in os.listdir(testo_kelias):\n",
    "        klases_kelias = os.path.join(testo_kelias,klases_pavadinimas)\n",
    "\n",
    "        if os.path.isdir(klases_kelias):\n",
    "            for paveikslelio_pavadinimas in os.listdir(klases_kelias):\n",
    "                paveikslelio_kelias = os.path.join(klases_kelias,paveikslelio_pavadinimas)\n",
    "\n",
    "                egzistuoja = sesija.query(PomidoraiTestas).filter_by(kelias=paveikslelio_kelias).first()\n",
    "\n",
    "                if not egzistuoja:\n",
    "\n",
    "                    naujas_irasas = PomidoraiTestas(kelias = paveikslelio_kelias, klases_pavadinimas = klases_pavadinimas)\n",
    "\n",
    "                    sesija.add(naujas_irasas)\n",
    "\n",
    "    sesija.commit()\n",
    "\n",
    "    print(\"Irasyti testo paveiksleiai\")"
   ]
  },
  {
   "cell_type": "code",
   "execution_count": 14,
   "id": "31614eec",
   "metadata": {},
   "outputs": [
    {
     "name": "stdout",
     "output_type": "stream",
     "text": [
      "Irasyti trenyravimo paveiksleiai\n",
      "Irasyti validacijos paveiksleiai\n",
      "Irasyti testo paveiksleiai\n"
     ]
    }
   ],
   "source": [
    "Bazine_klase.metadata.create_all(rysys_su_baze)\n",
    "\n",
    "irasyti_trenyravimo_paveikslelius(sesija,train_kelias)\n",
    "irasyti_validacijos_paveikslelius(sesija,val_kelias)\n",
    "irasyti_testo_paveikslelius(sesija,test_kelias)"
   ]
  },
  {
   "cell_type": "code",
   "execution_count": 15,
   "id": "9fc21a58",
   "metadata": {},
   "outputs": [],
   "source": [
    "\n",
    "train_df = pd.read_sql_table('Pomidoru_lapai_trenyravimo_duomenys', con=rysys_su_baze)\n",
    "\n",
    "val_df = pd.read_sql_table('Pomidoru_lapai_validacijos_duomenys', con=rysys_su_baze)\n",
    "\n",
    "test_df = pd.read_sql_table('Pomidoru_lapai_testo_duomenys', con=rysys_su_baze)\n",
    "\n",
    "\n",
    "# print(train_df.head())\n",
    "# print(val_df.head())\n",
    "# print(test_df.head())"
   ]
  },
  {
   "cell_type": "code",
   "execution_count": 16,
   "id": "18b720b9",
   "metadata": {},
   "outputs": [],
   "source": [
    "def issitraukti_paveikslelius(df, dydis=(224, 224)):\n",
    "    paveiksleliai = []\n",
    "    klasifikacijos = []\n",
    "\n",
    "    for indeksas, eilute in df.iterrows():\n",
    "        paveikslelis = load_img(eilute['kelias'], target_size=dydis)\n",
    "        paveikslelis_array = img_to_array(paveikslelis)\n",
    "        paveiksleliai.append(paveikslelis_array)\n",
    "        klasifikacijos.append(eilute['klases_pavadinimas'])\n",
    "\n",
    "    return np.array(paveiksleliai), np.array(klasifikacijos)\n",
    "\n",
    "x_train, y_train = issitraukti_paveikslelius(train_df)\n",
    "x_val, y_val = issitraukti_paveikslelius(val_df)\n",
    "x_test, y_test = issitraukti_paveikslelius(test_df)"
   ]
  },
  {
   "cell_type": "code",
   "execution_count": 17,
   "id": "8ba892c7",
   "metadata": {},
   "outputs": [
    {
     "name": "stdout",
     "output_type": "stream",
     "text": [
      "Klases uzkoduotos\n"
     ]
    }
   ],
   "source": [
    "def uzkoduoti_klases_lable(y_train, y_val, y_test):\n",
    "\n",
    "    enkoderis = LabelEncoder()\n",
    "    y_train_skaiciais = enkoderis.fit_transform(y_train)\n",
    "    y_val_skaiciais = enkoderis.transform(y_val)\n",
    "    y_test_skaiciais = enkoderis.transform(y_test)\n",
    "\n",
    "    print(\"Klases uzkoduotos\")\n",
    "\n",
    "    return y_train_skaiciais,y_val_skaiciais,y_test_skaiciais\n",
    "\n",
    "y_train, y_val, y_test = uzkoduoti_klases_lable(y_train,y_val,y_test)"
   ]
  },
  {
   "cell_type": "markdown",
   "id": "03656737",
   "metadata": {},
   "source": [
    "HSV paveiksleliai\n",
    ".\n"
   ]
  },
  {
   "cell_type": "code",
   "execution_count": 54,
   "id": "e4eed33b",
   "metadata": {},
   "outputs": [],
   "source": [
    "import os\n",
    "import cv2\n",
    "import numpy as np\n",
    "from PIL import Image\n",
    "import tensorflow as tf"
   ]
  },
  {
   "cell_type": "code",
   "execution_count": null,
   "id": "50f0c94b",
   "metadata": {},
   "outputs": [],
   "source": [
    "def konvertuoti_i_hsv(pav_failo_kelias):\n",
    "    paveikslelis = cv2.imread(pav_failo_kelias)\n",
    "    paveikslelis = cv2.cvtColor(paveikslelis, cv2.COLOR_BGR2RGB)\n",
    "    hsv_paveikslelis = cv2.cvtColor(paveikslelis, cv2.COLOR_RGB2HSV)\n",
    "    return hsv_paveikslelis"
   ]
  },
  {
   "cell_type": "code",
   "execution_count": null,
   "id": "b007badc",
   "metadata": {},
   "outputs": [],
   "source": [
    "def issaugoti_hsv_paveiksleli(hsv_masyvas, issaugojimo_kelias):\n",
    "    rgb_masyvas = cv2.cvtColor(hsv_masyvas, cv2.COLOR_HSV2RGB)\n",
    "    paveikslelis = Image.fromarray(rgb_masyvas) #sukuriamas jpg. objektas is masyvo\n",
    "    paveikslelis.save(issaugojimo_kelias)"
   ]
  },
  {
   "cell_type": "code",
   "execution_count": null,
   "id": "3194aab3",
   "metadata": {},
   "outputs": [],
   "source": [
    "def konvertuoti_viska_i_hsv(pradinis_kelias, issaugojimo_kelias):\n",
    "    for aplanko_kelias in [\"trenyravimas\", \"validacija\", \"testas\"]:\n",
    "        pilno_aplanko_kelias = os.path.join(pradinis_kelias, aplanko_kelias)\n",
    "        naujo_aplanko_kelias = os.path.join(issaugojimo_kelias, aplanko_kelias)\n",
    "\n",
    "        for klases_kelias in os.listdir(pilno_aplanko_kelias):\n",
    "            pradzios_klases_aplanko_kelias= os.path.join(pilno_aplanko_kelias, klases_kelias)\n",
    "            naujos_klases_aplanko_kelias = os.path.join(naujo_aplanko_kelias, klases_kelias)\n",
    "            os.makedirs(naujos_klases_aplanko_kelias, exist_ok=True) # jei aplankas jau sukurtas eis prie kito veiksmo jei nera sukurs \n",
    "\n",
    "            for failo_pavadinimo_kelias in os.listdir(pradzios_klases_aplanko_kelias):\n",
    "                if failo_pavadinimo_kelias.lower().endswith(('.jpg', '.png', '.jpeg')):\n",
    "                    pilnas_failo_kelias = os.path.join(pradzios_klases_aplanko_kelias, failo_pavadinimo_kelias)\n",
    "                    hsv_paveikslelis = konvertuoti_i_hsv(pilnas_failo_kelias)\n",
    "                    pilnas_kelias_issaugojimui = os.path.join(naujos_klases_aplanko_kelias, failo_pavadinimo_kelias)\n",
    "                    issaugoti_hsv_paveiksleli(hsv_paveikslelis, pilnas_kelias_issaugojimui)"
   ]
  },
  {
   "cell_type": "code",
   "execution_count": 58,
   "id": "2a37a896",
   "metadata": {},
   "outputs": [],
   "source": [
    "pradinis_kelias = r\"C:\\Users\\Vartotojas\\Desktop\\POMIDORAI\\pomidoru_duomenys\"\n",
    "issaugojimo_kelias = r\"C:\\Users\\Vartotojas\\Desktop\\POMIDORAI\\pomidoru_duomenys_hsv\"\n",
    "konvertuoti_viska_i_hsv(pradinis_kelias, issaugojimo_kelias)"
   ]
  },
  {
   "cell_type": "markdown",
   "id": "28105fb5",
   "metadata": {},
   "source": [
    "HSV i duomenu baze \n",
    ".\n"
   ]
  },
  {
   "cell_type": "code",
   "execution_count": 75,
   "id": "0ce86558",
   "metadata": {},
   "outputs": [],
   "source": [
    "class PomidoraiTrenyravimasHSV(Bazine_klase):\n",
    "\n",
    "    __tablename__ = 'Pomidoru_lapai_trenyravimo_hsv'\n",
    "\n",
    "    id = Column(Integer,primary_key = True)\n",
    "    kelias = Column(String, unique=True, nullable=False)  \n",
    "    klases_pavadinimas = Column(String, nullable=False)"
   ]
  },
  {
   "cell_type": "code",
   "execution_count": 76,
   "id": "2a4d1d67",
   "metadata": {},
   "outputs": [],
   "source": [
    "class PomidoraiValidacijaHSV(Bazine_klase):\n",
    "\n",
    "    __tablename__ = 'Pomidoru_lapai_validacijos_hsv'\n",
    "\n",
    "    id = Column(Integer,primary_key = True)\n",
    "    kelias = Column(String, unique=True, nullable=False)  \n",
    "    klases_pavadinimas = Column(String, nullable=False)"
   ]
  },
  {
   "cell_type": "code",
   "execution_count": 77,
   "id": "a6ea9cee",
   "metadata": {},
   "outputs": [],
   "source": [
    "class PomidoraiTestasHSV(Bazine_klase):\n",
    "\n",
    "    __tablename__ = 'Pomidoru_lapai_testo_hsv'\n",
    "\n",
    "    id = Column(Integer,primary_key = True)\n",
    "    kelias = Column(String, unique=True, nullable=False)  \n",
    "    klases_pavadinimas = Column(String, nullable=False)"
   ]
  },
  {
   "cell_type": "code",
   "execution_count": 79,
   "id": "8d277431",
   "metadata": {},
   "outputs": [],
   "source": [
    "def irasyti_trenyravimo_paveikslelius_HSV(sesija, trenyravimo_kelias):\n",
    "\n",
    "    for klases_pavadinimas in os.listdir(trenyravimo_kelias):\n",
    "        klases_kelias = os.path.join(trenyravimo_kelias,klases_pavadinimas)\n",
    "\n",
    "        if os.path.isdir(klases_kelias):\n",
    "            for paveikslelio_pavadinimas in os.listdir(klases_kelias):\n",
    "                paveikslelio_kelias = os.path.join(klases_kelias,paveikslelio_pavadinimas)\n",
    "\n",
    "                egzistuoja = sesija.query(PomidoraiTrenyravimasHSV).filter_by(kelias=paveikslelio_kelias).first()\n",
    "\n",
    "                if not egzistuoja:\n",
    "\n",
    "                    naujas_irasas = PomidoraiTrenyravimasHSV(kelias = paveikslelio_kelias, klases_pavadinimas = klases_pavadinimas)\n",
    "\n",
    "                    sesija.add(naujas_irasas)\n",
    "\n",
    "    sesija.commit()\n",
    "\n",
    "    print(\"Irasyti treniravimo HSV paveiksleiai\")"
   ]
  },
  {
   "cell_type": "code",
   "execution_count": 80,
   "id": "1ed455a1",
   "metadata": {},
   "outputs": [],
   "source": [
    "def irasyti_validacijos_paveikslelius_HSV(sesija, validacijos_kelias):\n",
    "\n",
    "    for klases_pavadinimas in os.listdir(validacijos_kelias):\n",
    "        klases_kelias = os.path.join(validacijos_kelias,klases_pavadinimas)\n",
    "\n",
    "        if os.path.isdir(klases_kelias):\n",
    "            for paveikslelio_pavadinimas in os.listdir(klases_kelias):\n",
    "                paveikslelio_kelias = os.path.join(klases_kelias,paveikslelio_pavadinimas)\n",
    "\n",
    "                egzistuoja = sesija.query(PomidoraiValidacijaHSV).filter_by(kelias=paveikslelio_kelias).first()\n",
    "\n",
    "                if not egzistuoja:\n",
    "\n",
    "                    naujas_irasas = PomidoraiValidacijaHSV(kelias = paveikslelio_kelias, klases_pavadinimas = klases_pavadinimas)\n",
    "\n",
    "                    sesija.add(naujas_irasas)\n",
    "\n",
    "    sesija.commit()\n",
    "\n",
    "    print(\"Irasyti validacijos HSV paveiksleiai\")"
   ]
  },
  {
   "cell_type": "code",
   "execution_count": 81,
   "id": "e86c13d6",
   "metadata": {},
   "outputs": [],
   "source": [
    "def irasyti_testo_paveikslelius_HSV(sesija, testo_kelias):\n",
    "\n",
    "    for klases_pavadinimas in os.listdir(testo_kelias):\n",
    "        klases_kelias = os.path.join(testo_kelias,klases_pavadinimas)\n",
    "\n",
    "        if os.path.isdir(klases_kelias):\n",
    "            for paveikslelio_pavadinimas in os.listdir(klases_kelias):\n",
    "                paveikslelio_kelias = os.path.join(klases_kelias,paveikslelio_pavadinimas)\n",
    "\n",
    "                egzistuoja = sesija.query(PomidoraiTestasHSV).filter_by(kelias=paveikslelio_kelias).first()\n",
    "\n",
    "                if not egzistuoja:\n",
    "\n",
    "                    naujas_irasas = PomidoraiTestasHSV(kelias = paveikslelio_kelias, klases_pavadinimas = klases_pavadinimas)\n",
    "\n",
    "                    sesija.add(naujas_irasas)\n",
    "\n",
    "    sesija.commit()\n",
    "\n",
    "    print(\"Irasyti testo HSV paveiksleiai\")"
   ]
  },
  {
   "cell_type": "code",
   "execution_count": 82,
   "id": "5904ce54",
   "metadata": {},
   "outputs": [
    {
     "name": "stdout",
     "output_type": "stream",
     "text": [
      "Irasyti treniravimo HSV paveiksleiai\n",
      "Irasyti validacijos HSV paveiksleiai\n",
      "Irasyti testo HSV paveiksleiai\n"
     ]
    }
   ],
   "source": [
    "train_kelias_HSV = r\"C:\\Users\\Vartotojas\\Desktop\\POMIDORAI\\pomidoru_duomenys_hsv\\trenyravimas\"\n",
    "val_kelias_HSV = r\"C:\\Users\\Vartotojas\\Desktop\\POMIDORAI\\pomidoru_duomenys_hsv\\validacija\"\n",
    "test_kelias_HSV = r\"C:\\Users\\Vartotojas\\Desktop\\POMIDORAI\\pomidoru_duomenys_hsv\\testas\"\n",
    "\n",
    "Bazine_klase.metadata.create_all(rysys_su_baze)\n",
    "\n",
    "irasyti_trenyravimo_paveikslelius_HSV(sesija,train_kelias_HSV)\n",
    "irasyti_validacijos_paveikslelius_HSV(sesija,val_kelias_HSV)\n",
    "irasyti_testo_paveikslelius_HSV(sesija,test_kelias_HSV)"
   ]
  },
  {
   "cell_type": "markdown",
   "id": "350fbe5c",
   "metadata": {},
   "source": [
    "CNN modelis su HSV\n",
    "."
   ]
  },
  {
   "cell_type": "code",
   "execution_count": 84,
   "id": "075d1f03",
   "metadata": {},
   "outputs": [],
   "source": [
    "\n",
    "train_df_hsv = pd.read_sql_table('Pomidoru_lapai_trenyravimo_hsv', con=rysys_su_baze)\n",
    "\n",
    "val_df_hsv = pd.read_sql_table('Pomidoru_lapai_validacijos_hsv', con=rysys_su_baze)\n",
    "\n",
    "test_df_hsv = pd.read_sql_table('Pomidoru_lapai_testo_hsv', con=rysys_su_baze)"
   ]
  },
  {
   "cell_type": "code",
   "execution_count": 85,
   "id": "2d0d7ee5",
   "metadata": {},
   "outputs": [],
   "source": [
    "def issitraukti_paveikslelius(df, dydis=(128, 128)):\n",
    "    paveiksleliai = []\n",
    "    klasifikacijos = []\n",
    "\n",
    "    for indeksas, eilute in df.iterrows():\n",
    "        paveikslelis = load_img(eilute['kelias'], target_size=dydis)\n",
    "        paveikslelis_array = img_to_array(paveikslelis)\n",
    "        paveiksleliai.append(paveikslelis_array)\n",
    "        klasifikacijos.append(eilute['klases_pavadinimas'])\n",
    "\n",
    "    return np.array(paveiksleliai), np.array(klasifikacijos)\n",
    "\n",
    "x_train_hsv, y_train_hsv = issitraukti_paveikslelius(train_df_hsv)\n",
    "x_val_hsv, y_val_hsv = issitraukti_paveikslelius(val_df_hsv)\n",
    "x_test_hsv, y_test_hsv = issitraukti_paveikslelius(test_df_hsv)"
   ]
  },
  {
   "cell_type": "code",
   "execution_count": 86,
   "id": "aa0d8e12",
   "metadata": {},
   "outputs": [
    {
     "name": "stdout",
     "output_type": "stream",
     "text": [
      "Klases uzkoduotos\n"
     ]
    }
   ],
   "source": [
    "def uzkoduoti_klases_lable(y_train, y_val, y_test):\n",
    "\n",
    "    enkoderis = LabelEncoder()\n",
    "    y_train_skaiciais = enkoderis.fit_transform(y_train)\n",
    "    y_val_skaiciais = enkoderis.transform(y_val)\n",
    "    y_test_skaiciais = enkoderis.transform(y_test)\n",
    "\n",
    "    print(\"Klases uzkoduotos\")\n",
    "\n",
    "    return y_train_skaiciais,y_val_skaiciais,y_test_skaiciais\n",
    "\n",
    "y_train_hsv, y_val_hsv, y_test_hsv = uzkoduoti_klases_lable(y_train_hsv,y_val_hsv,y_test_hsv)"
   ]
  },
  {
   "cell_type": "markdown",
   "id": "36b2469b",
   "metadata": {},
   "source": [
    "Modelis"
   ]
  },
  {
   "cell_type": "code",
   "execution_count": 93,
   "id": "a7c55420",
   "metadata": {},
   "outputs": [],
   "source": [
    "from tensorflow.keras.utils import to_categorical\n",
    "\n",
    "y_train_hsv_kat = to_categorical(y_train_hsv)\n",
    "y_val_hsv_kat = to_categorical(y_val_hsv)\n",
    "y_test_hsv_kat = to_categorical(y_test_hsv)"
   ]
  },
  {
   "cell_type": "code",
   "execution_count": 94,
   "id": "a5fed5c7",
   "metadata": {},
   "outputs": [],
   "source": [
    "x_train_hsv = x_train_hsv.astype(\"float32\") / 255.0\n",
    "x_val_hsv = x_val_hsv.astype(\"float32\") / 255.0\n",
    "x_test_hsv = x_test_hsv.astype(\"float32\") / 255.0"
   ]
  },
  {
   "cell_type": "code",
   "execution_count": 95,
   "id": "72e40a12",
   "metadata": {},
   "outputs": [],
   "source": [
    "x_train = x_train_hsv\n",
    "x_val = x_val_hsv\n",
    "x_test = x_test_hsv\n",
    "y_train = y_train_hsv_kat\n",
    "y_val = y_val_hsv_kat\n",
    "y_test = y_test_hsv_kat"
   ]
  },
  {
   "cell_type": "code",
   "execution_count": 96,
   "id": "74dfa593",
   "metadata": {},
   "outputs": [
    {
     "name": "stdout",
     "output_type": "stream",
     "text": [
      "6\n"
     ]
    }
   ],
   "source": [
    "klasiu_skaicius = y_train.shape[1]\n",
    "print(klasiu_skaicius)\n",
    "ivesties_forma = (128,128,3)\n",
    "imties_dydis = 32\n",
    "SEED = 42"
   ]
  },
  {
   "cell_type": "code",
   "execution_count": null,
   "id": "04d6e797",
   "metadata": {},
   "outputs": [
    {
     "name": "stderr",
     "output_type": "stream",
     "text": [
      "c:\\Users\\Vartotojas\\Desktop\\POMIDORAI\\pomidorai_repositorija\\venv\\Lib\\site-packages\\keras\\src\\layers\\convolutional\\base_conv.py:107: UserWarning: Do not pass an `input_shape`/`input_dim` argument to a layer. When using Sequential models, prefer using an `Input(shape)` object as the first layer in the model instead.\n",
      "  super().__init__(activity_regularizer=activity_regularizer, **kwargs)\n"
     ]
    }
   ],
   "source": [
    "def sukurti_cnn_hsv(ivesties_forma, klasiu_skaicius, learning_rate=0.0001):\n",
    "\n",
    "    modelis = keras.Sequential([\n",
    "        layers.Conv2D(64, (3, 3), activation='relu', input_shape=ivesties_forma),\n",
    "        layers.BatchNormalization(),\n",
    "        layers.MaxPooling2D((2, 2)),\n",
    "        layers.Dropout(0.4),\n",
    "\n",
    "        layers.Conv2D(32, (3, 3), activation='relu'),\n",
    "        layers.BatchNormalization(),\n",
    "        layers.MaxPooling2D((2, 2)),\n",
    "        layers.Dropout(0.4),\n",
    "\n",
    "        layers.Flatten(),\n",
    "        layers.Dense(128, activation='relu'),\n",
    "        layers.BatchNormalization(),\n",
    "        layers.Dropout(0.4),\n",
    "        layers.Dense(klasiu_skaicius, activation='softmax')])\n",
    "\n",
    "    optimizieris = keras.optimizers.Adam(learning_rate=learning_rate)\n",
    "\n",
    "    modelis.compile(optimizer=optimizieris, loss='categorical_crossentropy', metrics=['accuracy'])\n",
    "\n",
    "    return modelis\n",
    "\n",
    "modelis = sukurti_cnn_hsv(ivesties_forma, klasiu_skaicius)"
   ]
  },
  {
   "cell_type": "code",
   "execution_count": null,
   "id": "34edf76d",
   "metadata": {},
   "outputs": [
    {
     "name": "stdout",
     "output_type": "stream",
     "text": [
      "Epoch 1/40\n",
      "\u001b[1m141/141\u001b[0m \u001b[32m━━━━━━━━━━━━━━━━━━━━\u001b[0m\u001b[37m\u001b[0m \u001b[1m142s\u001b[0m 950ms/step - accuracy: 0.4959 - loss: 6.7970 - val_accuracy: 0.1667 - val_loss: 41.2473\n",
      "Epoch 2/40\n",
      "\u001b[1m141/141\u001b[0m \u001b[32m━━━━━━━━━━━━━━━━━━━━\u001b[0m\u001b[37m\u001b[0m \u001b[1m124s\u001b[0m 822ms/step - accuracy: 0.6601 - loss: 1.0428 - val_accuracy: 0.1744 - val_loss: 57.5892\n",
      "Epoch 3/40\n",
      "\u001b[1m141/141\u001b[0m \u001b[32m━━━━━━━━━━━━━━━━━━━━\u001b[0m\u001b[37m\u001b[0m \u001b[1m116s\u001b[0m 821ms/step - accuracy: 0.7017 - loss: 0.8466 - val_accuracy: 0.2922 - val_loss: 19.3102\n",
      "Epoch 4/40\n",
      "\u001b[1m141/141\u001b[0m \u001b[32m━━━━━━━━━━━━━━━━━━━━\u001b[0m\u001b[37m\u001b[0m \u001b[1m143s\u001b[0m 826ms/step - accuracy: 0.7080 - loss: 0.8343 - val_accuracy: 0.2689 - val_loss: 8.1172\n",
      "Epoch 5/40\n",
      "\u001b[1m141/141\u001b[0m \u001b[32m━━━━━━━━━━━━━━━━━━━━\u001b[0m\u001b[37m\u001b[0m \u001b[1m142s\u001b[0m 824ms/step - accuracy: 0.7100 - loss: 0.8163 - val_accuracy: 0.6756 - val_loss: 1.4330\n",
      "Epoch 6/40\n",
      "\u001b[1m141/141\u001b[0m \u001b[32m━━━━━━━━━━━━━━━━━━━━\u001b[0m\u001b[37m\u001b[0m \u001b[1m117s\u001b[0m 830ms/step - accuracy: 0.7403 - loss: 0.6834 - val_accuracy: 0.4656 - val_loss: 4.3017\n",
      "Epoch 7/40\n",
      "\u001b[1m141/141\u001b[0m \u001b[32m━━━━━━━━━━━━━━━━━━━━\u001b[0m\u001b[37m\u001b[0m \u001b[1m127s\u001b[0m 900ms/step - accuracy: 0.7908 - loss: 0.6452 - val_accuracy: 0.6878 - val_loss: 2.6252\n",
      "Epoch 8/40\n",
      "\u001b[1m141/141\u001b[0m \u001b[32m━━━━━━━━━━━━━━━━━━━━\u001b[0m\u001b[37m\u001b[0m \u001b[1m116s\u001b[0m 822ms/step - accuracy: 0.8233 - loss: 0.5006 - val_accuracy: 0.8411 - val_loss: 0.5334\n",
      "Epoch 9/40\n",
      "\u001b[1m141/141\u001b[0m \u001b[32m━━━━━━━━━━━━━━━━━━━━\u001b[0m\u001b[37m\u001b[0m \u001b[1m117s\u001b[0m 833ms/step - accuracy: 0.8282 - loss: 0.4747 - val_accuracy: 0.8633 - val_loss: 0.4321\n",
      "Epoch 10/40\n",
      "\u001b[1m141/141\u001b[0m \u001b[32m━━━━━━━━━━━━━━━━━━━━\u001b[0m\u001b[37m\u001b[0m \u001b[1m140s\u001b[0m 821ms/step - accuracy: 0.8316 - loss: 0.4348 - val_accuracy: 0.8756 - val_loss: 0.4240\n",
      "Epoch 11/40\n",
      "\u001b[1m141/141\u001b[0m \u001b[32m━━━━━━━━━━━━━━━━━━━━\u001b[0m\u001b[37m\u001b[0m \u001b[1m139s\u001b[0m 801ms/step - accuracy: 0.8448 - loss: 0.4283 - val_accuracy: 0.8833 - val_loss: 0.5651\n",
      "Epoch 12/40\n",
      "\u001b[1m141/141\u001b[0m \u001b[32m━━━━━━━━━━━━━━━━━━━━\u001b[0m\u001b[37m\u001b[0m \u001b[1m109s\u001b[0m 774ms/step - accuracy: 0.8586 - loss: 0.3715 - val_accuracy: 0.7133 - val_loss: 2.0556\n",
      "Epoch 13/40\n",
      "\u001b[1m141/141\u001b[0m \u001b[32m━━━━━━━━━━━━━━━━━━━━\u001b[0m\u001b[37m\u001b[0m \u001b[1m99s\u001b[0m 704ms/step - accuracy: 0.8621 - loss: 0.3614 - val_accuracy: 0.8789 - val_loss: 0.4939\n",
      "Epoch 14/40\n",
      "\u001b[1m141/141\u001b[0m \u001b[32m━━━━━━━━━━━━━━━━━━━━\u001b[0m\u001b[37m\u001b[0m \u001b[1m136s\u001b[0m 663ms/step - accuracy: 0.8740 - loss: 0.3805 - val_accuracy: 0.9044 - val_loss: 0.2925\n",
      "Epoch 15/40\n",
      "\u001b[1m141/141\u001b[0m \u001b[32m━━━━━━━━━━━━━━━━━━━━\u001b[0m\u001b[37m\u001b[0m \u001b[1m144s\u001b[0m 674ms/step - accuracy: 0.8699 - loss: 0.3396 - val_accuracy: 0.6156 - val_loss: 5.3227\n",
      "Epoch 16/40\n",
      "\u001b[1m141/141\u001b[0m \u001b[32m━━━━━━━━━━━━━━━━━━━━\u001b[0m\u001b[37m\u001b[0m \u001b[1m127s\u001b[0m 570ms/step - accuracy: 0.8765 - loss: 0.3666 - val_accuracy: 0.8056 - val_loss: 1.3313\n",
      "Epoch 17/40\n",
      "\u001b[1m141/141\u001b[0m \u001b[32m━━━━━━━━━━━━━━━━━━━━\u001b[0m\u001b[37m\u001b[0m \u001b[1m86s\u001b[0m 609ms/step - accuracy: 0.8787 - loss: 0.3507 - val_accuracy: 0.6478 - val_loss: 1.4163\n",
      "Epoch 18/40\n",
      "\u001b[1m141/141\u001b[0m \u001b[32m━━━━━━━━━━━━━━━━━━━━\u001b[0m\u001b[37m\u001b[0m \u001b[1m82s\u001b[0m 583ms/step - accuracy: 0.9028 - loss: 0.2746 - val_accuracy: 0.7022 - val_loss: 4.0639\n",
      "Epoch 19/40\n",
      "\u001b[1m141/141\u001b[0m \u001b[32m━━━━━━━━━━━━━━━━━━━━\u001b[0m\u001b[37m\u001b[0m \u001b[1m82s\u001b[0m 582ms/step - accuracy: 0.9143 - loss: 0.2712 - val_accuracy: 0.5989 - val_loss: 2.3181\n",
      "Epoch 20/40\n",
      "\u001b[1m141/141\u001b[0m \u001b[32m━━━━━━━━━━━━━━━━━━━━\u001b[0m\u001b[37m\u001b[0m \u001b[1m141s\u001b[0m 572ms/step - accuracy: 0.9163 - loss: 0.2918 - val_accuracy: 0.9189 - val_loss: 0.3699\n",
      "Epoch 21/40\n",
      "\u001b[1m141/141\u001b[0m \u001b[32m━━━━━━━━━━━━━━━━━━━━\u001b[0m\u001b[37m\u001b[0m \u001b[1m80s\u001b[0m 568ms/step - accuracy: 0.9041 - loss: 0.3285 - val_accuracy: 0.7522 - val_loss: 2.3831\n",
      "Epoch 22/40\n",
      "\u001b[1m141/141\u001b[0m \u001b[32m━━━━━━━━━━━━━━━━━━━━\u001b[0m\u001b[37m\u001b[0m \u001b[1m82s\u001b[0m 570ms/step - accuracy: 0.9040 - loss: 0.3618 - val_accuracy: 0.7789 - val_loss: 0.9623\n",
      "\u001b[1m19/19\u001b[0m \u001b[32m━━━━━━━━━━━━━━━━━━━━\u001b[0m\u001b[37m\u001b[0m \u001b[1m2s\u001b[0m 99ms/step - accuracy: 0.8406 - loss: 0.5472\n",
      "Testo nuostolis loss: 0.3745\n",
      "Testo tikslumas accuracy: 0.8833\n"
     ]
    }
   ],
   "source": [
    "from tensorflow.keras.callbacks import EarlyStopping\n",
    "\n",
    "sustabdymas = EarlyStopping(monitor='val_loss', patience=10, restore_best_weights=True)\n",
    "\n",
    "history = modelis.fit(x_train,y_train, validation_data=(x_val,y_val), epochs=40, callbacks=[sustabdymas])\n",
    "\n",
    "nuostolis, tikslumas = modelis.evaluate(x_test,y_test, verbose=1)\n",
    "\n",
    "print(f\"Testo nuostolis loss: {nuostolis:.4f}\")\n",
    "print(f\"Testo tikslumas accuracy: {tikslumas:.4f}\")"
   ]
  },
  {
   "cell_type": "code",
   "execution_count": 99,
   "id": "6e964a9b",
   "metadata": {},
   "outputs": [
    {
     "name": "stderr",
     "output_type": "stream",
     "text": [
      "WARNING:absl:You are saving your model as an HDF5 file via `model.save()` or `keras.saving.save_model(model)`. This file format is considered legacy. We recommend using instead the native Keras format, e.g. `model.save('my_model.keras')` or `keras.saving.save_model(model, 'my_model.keras')`. \n"
     ]
    }
   ],
   "source": [
    "modelis.save(\"hsv_cnn_modelis.h5\")"
   ]
  }
 ],
 "metadata": {
  "kernelspec": {
   "display_name": "venv",
   "language": "python",
   "name": "python3"
  },
  "language_info": {
   "codemirror_mode": {
    "name": "ipython",
    "version": 3
   },
   "file_extension": ".py",
   "mimetype": "text/x-python",
   "name": "python",
   "nbconvert_exporter": "python",
   "pygments_lexer": "ipython3",
   "version": "3.12.8"
  }
 },
 "nbformat": 4,
 "nbformat_minor": 5
}
