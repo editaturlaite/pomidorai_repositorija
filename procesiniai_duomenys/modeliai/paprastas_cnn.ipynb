{
 "cells": [
  {
   "cell_type": "code",
   "execution_count": null,
   "id": "befdfa06",
   "metadata": {},
   "outputs": [],
   "source": [
    "import sys\n",
    "import os\n",
    "sys.path.append(os.path.abspath('..'))\n",
    "from tensorflow.keras import layers, models\n",
    "import tensorflow as tf\n",
    "from duomenu_apdorojimas.paruosti_duomenys import x_train, y_train, x_val, y_val, x_test, y_test\n",
    "from duomenu_apdorojimas.paveiksleliu_nuskaitymas import uzkoduoti_klases_lable_onehot\n",
    "from modeliai.paprastas_cnn import sukurti_paprasta_cnn\n",
    "from tensorflow.keras.callbacks import EarlyStopping\n",
    "from sklearn.metrics import confusion_matrix, ConfusionMatrixDisplay, classification_report\n",
    "import matplotlib.pyplot as plt\n",
    "import numpy as np\n"
   ]
  },
  {
   "cell_type": "code",
   "execution_count": 6,
   "id": "4f7103c3",
   "metadata": {},
   "outputs": [],
   "source": [
    "def sukurti_paprasta_cnn(ivesties_forma, klasiu_skaicius, learning_rate=0.0001):\n",
    "    modelis = models.Sequential([\n",
    "        layers.Conv2D(32, (3, 3), activation='relu', input_shape=ivesties_forma),\n",
    "        layers.BatchNormalization(),\n",
    "        layers.MaxPooling2D((2, 2)),\n",
    "\n",
    "        layers.Conv2D(64, (3, 3), activation='relu'),\n",
    "        layers.BatchNormalization(),\n",
    "        layers.MaxPooling2D((2, 2)),\n",
    "\n",
    "        layers.Flatten(),\n",
    "        layers.Dense(128, activation='relu'),\n",
    "        layers.Dropout(0.4),\n",
    "        layers.Dense(klasiu_skaicius, activation='softmax')])\n",
    "\n",
    "    optimizeris = tf.keras.optimizers.Adam(learning_rate=learning_rate)\n",
    "    \n",
    "    modelis.compile(optimizer=optimizeris, loss='categorical_crossentropy', metrics=['accuracy'])\n",
    "\n",
    "    return modelis"
   ]
  },
  {
   "cell_type": "code",
   "execution_count": null,
   "id": "2f3e2ab9",
   "metadata": {},
   "outputs": [],
   "source": [
    "y_train, y_val, y_test = uzkoduoti_klases_lable_onehot(y_train, y_val, y_test)\n",
    "\n",
    "klasiu_skaicius = y_train.shape[1]\n",
    "ivesties_forma = (128, 128, 3)\n",
    "\n",
    "modelis = sukurti_paprasta_cnn(ivesties_forma, klasiu_skaicius)\n",
    "\n",
    "sustabdymas = EarlyStopping(monitor='val_loss',patience=8,restore_best_weights=True)\n",
    "\n",
    "history = modelis.fit(x_train, y_train, validation_data=(x_val, y_val), epochs=40, batch_size=32, callbacks=[sustabdymas])\n",
    "\n",
    "nuostolis, tikslumas = modelis.evaluate(x_test, y_test, verbose=1)\n",
    "\n",
    "print(f\"Testo nuostolis: {nuostolis:.4f}\")\n",
    "print(f\"Testo tikslumas: {tikslumas:.4f}\")"
   ]
  },
  {
   "cell_type": "code",
   "execution_count": null,
   "id": "7f549e96",
   "metadata": {},
   "outputs": [],
   "source": [
    "\n",
    "y_pradines = np.argmax(y_test, axis=1)\n",
    "\n",
    "y_prognoze = modelis.predict(x_test)\n",
    "y_prognoze = np.argmax(y_prognoze, axis=1)"
   ]
  },
  {
   "cell_type": "code",
   "execution_count": null,
   "id": "0dc2855d",
   "metadata": {},
   "outputs": [],
   "source": [
    "klasiu_pavadinimai = ['Bacterial_spot', 'Late_blight', 'Septoria_leaf_spot',\n",
    "                      'Spider_mites', 'Tomato_Yellow_Leaf_Curl_Virus', 'healthy']\n",
    "\n",
    "\n",
    "matrica = confusion_matrix(y_pradines, y_prognoze)\n",
    "disp = ConfusionMatrixDisplay(confusion_matrix=matrica, display_labels=klasiu_pavadinimai)\n",
    "disp.plot(xticks_rotation=40, cmap='Blues')\n",
    "plt.title(\"Matrica\")\n",
    "plt.tight_layout()\n",
    "plt.show()\n",
    "\n",
    "print(classification_report(y_pradines, y_prognoze, target_names=klasiu_pavadinimai, digits=4))"
   ]
  }
 ],
 "metadata": {
  "kernelspec": {
   "display_name": "venv",
   "language": "python",
   "name": "python3"
  },
  "language_info": {
   "codemirror_mode": {
    "name": "ipython",
    "version": 3
   },
   "file_extension": ".py",
   "mimetype": "text/x-python",
   "name": "python",
   "nbconvert_exporter": "python",
   "pygments_lexer": "ipython3",
   "version": "3.12.8"
  }
 },
 "nbformat": 4,
 "nbformat_minor": 5
}
